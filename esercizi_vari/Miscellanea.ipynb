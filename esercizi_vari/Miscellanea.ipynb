{
 "cells": [
  {
   "cell_type": "markdown",
   "id": "336a926b-86a4-4936-bb3d-0d54d27b99a0",
   "metadata": {},
   "source": [
    "## Esercizio A\n",
    "\n",
    "Data la matrice\n",
    "$$\n",
    "\\left[\n",
    "\\begin{array}{cccc}\n",
    "4.5 & 1 & 3 & 2\\\\\n",
    "1 & -8 & 2 & 1\\\\\n",
    "-1 & -2 & -3 & -1\\\\\n",
    "2 & 6 & 0 & 1\n",
    "\\end{array}\n",
    "\\right ],\n",
    "$$\n",
    "\n",
    "calcolarne la fattorizzazione lu di Gauss  facendo uso della funzione scipy.linalg.lu  e sfruttarla per il calcolo del suo determinante e della sua inversa."
   ]
  },
  {
   "cell_type": "markdown",
   "id": "a701d224",
   "metadata": {},
   "source": [
    "Fattorizzazione LU di Gauss\n",
    "- è un metodo diretto per la risoluzione dei sistemi lineari\n",
    "- L è triangolare inferiore con elementi diagonali pari a 1\n",
    "- U triangolare superiore\n",
    "- matrice A quadrata e non singolare\n",
    "- fa uso della matrice di permutazione P, fondamentale perché L @ U = P @ A "
   ]
  },
  {
   "cell_type": "code",
   "execution_count": 39,
   "id": "d00f622e",
   "metadata": {},
   "outputs": [],
   "source": [
    "import numpy as np\n",
    "import numpy.linalg as npl\n",
    "import scipy.linalg as spl\n",
    "import SolveTriangular\n",
    "import matplotlib.pyplot as plt"
   ]
  },
  {
   "cell_type": "code",
   "execution_count": 13,
   "id": "37690705",
   "metadata": {},
   "outputs": [
    {
     "name": "stdout",
     "output_type": "stream",
     "text": [
      "determinante di A = 58.00000000000001\n",
      "\n",
      "A^-1 = [[ 0.5862069  -0.36206897  0.34482759 -0.46551724]\n",
      " [-0.01724138 -0.07758621 -0.06896552  0.04310345]\n",
      " [ 0.17241379 -0.22413793 -0.31034483 -0.43103448]\n",
      " [-1.06896552  1.18965517 -0.27586207  1.67241379]]\n"
     ]
    }
   ],
   "source": [
    "A = np.array([[4.5, 1, 3, 2], [1, -8, 2, 1], [-1, -2, -3, -1], [2, 6, 0, 1]])\n",
    "n = A.shape[0]\n",
    "\n",
    "# fattorizzazione di Gauss\n",
    "P, L, U = spl.lu(A) \n",
    "\n",
    "# utilizzo il fatto che il determinante di A è il prodotto dei determinanti di P, L, U\n",
    "# P matrice di permutazione (= matrice identità con 2 righe scambiate) => det P = +-1\n",
    "# L triangolare inferiore con 1 sulla diagonale => det L = 1\n",
    "detA = np.prod(np.diag(U)) * npl.det(P)\n",
    "print(\"determinante di A =\", detA)\n",
    "\n",
    "# per calcolare l'inversa di A, utilizzo la fattorizzazione LU per risolvere il sistema AX = I, dove I è l'identità\n",
    "# LY = I, UX = Y, dove X è l'inversa di A\n",
    "I = np.eye(n) \n",
    "Y = npl.solve(L, I)\n",
    "\n",
    "inv_A = npl.solve(U, Y)\n",
    "print(\"\\nA^-1 =\", inv_A)"
   ]
  },
  {
   "cell_type": "markdown",
   "id": "bf9eaf45-e9ab-4bfb-b294-6ccd148279e2",
   "metadata": {},
   "source": [
    "## Esercizio  B\n",
    "\n",
    "Siano assegnati i punti del piano di coordinate $(x_i, y_i)$, $i=1,\\ldots,4$ con \n",
    "$$\n",
    "\\begin{array}{c}\n",
    "x_1=0, \\quad x_2=4, \\quad x_3=0, \\quad x_4=5\\\\\n",
    "y_1=0, \\quad y_2=0, \\quad y_3=4, \\quad y_4=6.\n",
    "\\end{array}\n",
    "$$ \n",
    "Scrivere lo script Python  in cui\n",
    "- si costruisca il sistema lineare sovradeterminato ottenuto imponendo il passaggio della circonferenza di equazione $x^2+y^2+a_1x+a_2y+a_3=0$ per i quattro punti assegnati, e si denotino con ${\\bf A}$ e ${\\bf b}$ la matrice dei coefficienti e il termine noto ottenuti;   [**punti 2**]\n",
    "\n",
    "- si sfrutti la decomposizione QR  della matrice A  per ottenere la soluzione ${\\bf a}^*$ del problema ai minimi quadrati $\\min_{{\\bf a} \\in \\mathbb{R}^3} \\|{\\bf A}{\\bf a}-{\\bf b}\\|_2^2$  e  si calcoli il valore di $\\|{\\bf A}{\\bf a}^*-{\\bf b}\\|_2^2$;   [**punti 5**]\n",
    "\n",
    "-  dopo averne determinato centro e raggio, si rappresentino in una stessa figura la circonferenza di equazione $x^2+y^2+a^*_1x+a^*_2y+a^*_3=0$ (individuata dalla soluzione ${\\bf a}^*$ del problema ai minimi quadrati) e i quattro punti assegnati dal problema.[**punti 3**]\n",
    "\n",
    "\n",
    "**Nota Bene**: Si ricorda che data una circonferenza nella forma canonica\n",
    "$$ x^2+y^2+a_1 x+a_2 x+a_3=0$$\n",
    "\n",
    "le coordinate del suo centro sono \n",
    "$$C≡(-a_1/2,-a_2/2)$$\n",
    "\n",
    "e la lunghezza del suo raggio è data da:\n",
    "\n",
    "$$r=\\sqrt{\\frac{a_1^2}{4}+\\frac{a_2^2}{4} -a_3}$$\n",
    "\n",
    "e la circoferenza può essere rappresentata in forma parametrica $C(t),  t \\in [0, 2 \\cdot \\pi]$ e le due componenti parametriche sono $$x(t)= C_0+r\\cdot cos(t);$$ $$ y(t)= C_1+r\\cdot sin(t)$$"
   ]
  },
  {
   "cell_type": "code",
   "execution_count": 26,
   "id": "e688f13a-ecba-439d-a7b8-dd7f84b00d10",
   "metadata": {},
   "outputs": [],
   "source": [
    "# Ax = b => cerco la matrice dei coefficienti e dei termini noti\n",
    "A = np.array(([0, 4, 0, 5], [0, 0, 4, 6], [1, 1, 1, 1])).T\n",
    "b_vet = np.array(([0, -16, -16, -61]))\n",
    "b = b_vet.reshape(-1, 1)"
   ]
  },
  {
   "cell_type": "code",
   "execution_count": 57,
   "id": "2cc681f5",
   "metadata": {},
   "outputs": [],
   "source": [
    "# Decomposizione con fattorizzazione QR\n",
    "def qrLS(A,b):\n",
    "    n = A.shape[1] \n",
    "    Q,R = spl.qr(A)\n",
    "    h = Q.T @ b \n",
    "    x,flag = SolveTriangular.Usolve(R[0:n, 0:n], h[0:n]) \n",
    "    residuo=np.linalg.norm(h[n:])**2\n",
    "    return x,residuo"
   ]
  },
  {
   "cell_type": "code",
   "execution_count": 58,
   "id": "8f876516",
   "metadata": {},
   "outputs": [
    {
     "name": "stdout",
     "output_type": "stream",
     "text": [
      "soluzione = [[-5.61904762]\n",
      " [-5.75396825]\n",
      " [ 3.77777778]]\n",
      "\n",
      "residuo = 36.69841269841284\n"
     ]
    }
   ],
   "source": [
    "x, residuo = qrLS(A, b)\n",
    "print(\"soluzione =\", x)\n",
    "print(\"\\nresiduo =\",residuo)"
   ]
  },
  {
   "cell_type": "code",
   "execution_count": 59,
   "id": "0b8d33a6",
   "metadata": {},
   "outputs": [
    {
     "data": {
      "image/png": "[encoded data removed]",
      "text/plain": [
       "<Figure size 640x480 with 1 Axes>"
      ]
     },
     "metadata": {},
     "output_type": "display_data"
    }
   ],
   "source": [
    "centro = (-x[0] / 2, -x[1]/2)\n",
    "raggio = np.sqrt( (x[0]**2) / 4 + (x[1]**2) / 4 - x[2] )\n",
    "\n",
    "# Intervallo [0, 2π]\n",
    "num_points = 1000\n",
    "interval = np.linspace(0, 2 * np.pi, num_points)\n",
    "xt = centro[0] + raggio * np.cos(interval)\n",
    "yt = centro[1] + raggio * np.sin(interval)\n",
    "\n",
    "# punti iniziali\n",
    "x = np.array([0, 4, 0, 5])\n",
    "y = np.array([0, 0, 4, 6])\n",
    "\n",
    "plt.plot(centro[0], centro[1], 'bo', x, y, 'r*', xt, yt, 'b-')\n",
    "plt.axis =\"equal\""
   ]
  },
  {
   "cell_type": "markdown",
   "id": "ee97d047-97be-43c7-a721-fe588e6a2c4c",
   "metadata": {},
   "source": [
    "## Esercizio C\n",
    "Per i dati $(x_i, y_i)$ riportati nei seguenti array\n",
    "\n",
    "x = np.array([0.0004, 0.2507, 0.5008, 2.0007, 8.0013]) \n",
    "\n",
    "y = np.array([0.0007,0.0162, 0.0288, 0.0309, 0.0310])\n",
    "\n",
    "- costruire la retta di regressione;\n",
    "- costruire la parabola approssimante i dati nel senso dei minimi quadrati;\n",
    "- determinare l'approssimazione ai minimi quadrati espressa in termini di\n",
    "basi esponenziali: $y = a + b e^{-x}+ c e^{-2x}$\n",
    "\n",
    "Quale tra le tre approssimazioni risulta la migliore? (Confrontare i grafici e la norma euclidea al quadrato del vettore dei residui)."
   ]
  },
  {
   "cell_type": "markdown",
   "id": "d3626136-ea3b-47bb-861c-4e5de4a8baaf",
   "metadata": {},
   "source": [
    "# Esercizio D\n",
    "\n",
    "La temperatura T in prossimita' del suolo varia al variare della concentrazione k dell'acido carbonico e della latitudine L. Per k=1.5 la temperatura al suolo subisce una variazione dipendente dalla temperatura secondo la seguente tabella \n",
    "\n",
    "L\t[-55\t-45\t-35\t-25\t-15\t-5\t5\t15\t25\t35\t45\t55\t65]\n",
    "\n",
    "T\t[3.7\t3.7\t3.52\t3.27\t3.2\t3.15\t3.15\t3.25\t3.47\t3.52\t3.65\t3.67\t3.52]\n",
    "\n",
    "Si vuole costruire un MODELLO che descriva la legge T=T(L) anche per latitudini non misurate. \n",
    "Ad esempio si vuole valutare la variazione di temperatura a Londra ( L=51°).\n",
    "mediante interpolazione con un polinomio di grado 12.\n",
    "Valutare e disegnare, inoltre, il polinomio interpolatore di Lagrange in un set di 100 dati equidistanti nell’intervallo min(L), max(L).\n",
    "Descrivere i risultati alla luce della teoria."
   ]
  },
  {
   "cell_type": "markdown",
   "id": "d449c9cc-71ed-4c53-a20e-76c6ee75952b",
   "metadata": {},
   "source": [
    "## Esercizio E\n",
    "\n",
    "-  Implementare il  metodo di Newton Raphson, la variante delle corde e la variante di Shamanskii per la soluzione di un sistema non lineare\n",
    "\n",
    "Risolvere il sistema di equazioni non lineare \n",
    "\n",
    "$$\n",
    "\\left[\n",
    "\\begin{array}{c}\n",
    "x_0^2+x_0x_1=10 \\\\\n",
    " x_1+3x_0x_1^2=57\n",
    "\\end{array}\n",
    "\\right.\n",
    "$$\n",
    "con ciascuno dei tre metodi e confrontare per ciascun metodo il grafico dell'errore relativo tra due iterati successivi, giustificando i risultati alla luce della teoria.\n",
    "\n",
    "- Descrivi la variante del Metodod di Newton-Raphson per calcolare il minimo di una funzione non lineare in più variabili\n",
    "\n",
    " \n",
    "\n",
    "**Nota Bene**: Servirsi del metodo grafico per individuare un \n",
    "iterato iniziale  $X_0$ nell'intorno della soluzione che si vuole approssimare. Visualizzare le \n",
    "curve di livello corrisponenti a z=O delle due superfici z = f1 (x1 ,x2 ) e z = f2(x1 , x 2 ) e \n",
    "definire come iterato iniziale un vettore $X_0$ oppurtuno le cui componenti stanno in un \n",
    "intorno della soluzione (punti di intersezione tra le curve di livello delle due superfici) \\]"
   ]
  }
 ],
 "metadata": {
  "kernelspec": {
   "display_name": "Python 3 (ipykernel)",
   "language": "python",
   "name": "python3"
  },
  "language_info": {
   "codemirror_mode": {
    "name": "ipython",
    "version": 3
   },
   "file_extension": ".py",
   "mimetype": "text/x-python",
   "name": "python",
   "nbconvert_exporter": "python",
   "pygments_lexer": "ipython3",
   "version": "3.11.5"
  }
 },
 "nbformat": 4,
 "nbformat_minor": 5
}
