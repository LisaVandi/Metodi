{
 "cells": [
  {
   "cell_type": "markdown",
   "metadata": {},
   "source": [
    "I sistemi lineari Ax = b possono essere risolti secondo due famiglie di metodi: \n",
    "1.  METODI DIRETTI \n",
    "2.  METODI ITERATIVI\n",
    "Analizziamo i metodi diretti: \n",
    " - sono basat\n",
    " i sulla fattorizzazione di A nel prodotto di due matrici, B e C, con l'obiettivo \n",
    "   di ottenere un sistema con risoluzione più semplice\n",
    " - conducono alla soluzione esatta in un numero finito di passi\n",
    " - sono adatti per sistemi con una matrice di coefficienti DENSA e di DIMENSIONI MODERATE\n",
    " - hanno complessità O(n^3)\n",
    "\n",
    " Sono 3: \n",
    " 1. GAUSS CON FATTORIZZAZIONE LU\n",
    " 2. CHOLESKY\n",
    " 3. FATTORIZZAZIONE QR\n"
   ]
  },
  {
   "cell_type": "code",
   "execution_count": 2,
   "metadata": {},
   "outputs": [],
   "source": [
    "import numpy as np\n",
    "import scipy as sp\n",
    "import scipy.linalg as spl\n",
    "import numpy.linalg as npl\n",
    "from SolveTriangular import Lsolve, Usolve"
   ]
  },
  {
   "cell_type": "code",
   "execution_count": 3,
   "metadata": {},
   "outputs": [],
   "source": [
    "\"\"\"\n",
    "Fattorizzazione LU: Gauss\n",
    "P = matrice di permutazione: matrice identità con 2 righe scambiate. \n",
    "    Soddisfa: P @ A = L @ U\n",
    "L = matrice triangolare INFERIORE: contiene i moltiplicatori utilizzati al passo precedente\n",
    "U = matrice triangolare SUPERIORE\n",
    "\n",
    "Condizione necessaria per applicarlo: \n",
    "A matrice quadrata e con determinante != 0\n",
    "\"\"\"\n",
    "\n",
    "def LUsolve(A,b):\n",
    "    # Passo 1: Fattorizzazione LU di A\n",
    "    P, L, U = spl.lu(A) \n",
    "\n",
    "    # Passo 2: Risoluzione del sistema Ly = Pb\n",
    "    y,flag=Lsolve(L,P@b) \n",
    "    if flag==0: # soluzione trovata con successo\n",
    "        # Passo 3: Risoluzione del sistema Ux = y\n",
    "        x,flag=Usolve(U,y) \n",
    "    else:\n",
    "        return None,None\n",
    "    return x,flag"
   ]
  },
  {
   "cell_type": "code",
   "execution_count": 4,
   "metadata": {},
   "outputs": [],
   "source": [
    "\"\"\"\n",
    "Per matrici simmetriche e definite positive. \n",
    "Esiste L triangolare INFERIORE tale che A = L @ L.T\n",
    "\"\"\"\n",
    "def Cholesky(A,b):\n",
    "    L=spl.cholesky(A,lower=True)\n",
    "    y,flag=Lsolve(L,b)\n",
    "    if flag == 0:\n",
    "        x,flag=Usolve(L.T,y)\n",
    "    else:\n",
    "        print(f'Metodo non applicabile')\n",
    "        return None,None\n",
    "    return x,flag"
   ]
  },
  {
   "cell_type": "code",
   "execution_count": 5,
   "metadata": {},
   "outputs": [],
   "source": [
    "\"\"\"\n",
    "Per matrici simmetriche e definite positive. \n",
    "Q matrice quadrata e ortogonale \n",
    "R triangolare SUPERIORE e non singolare \n",
    "Vale A = Q @ R\n",
    "\"\"\"\n",
    "\n",
    "def QR(A,b):\n",
    "    Q,R = spl.qr(A)\n",
    "    x,flag = Usolve(R,Q.T@b)\n",
    "    if flag != 0:\n",
    "        print(f'Metodo non applcabile')\n",
    "        return None,None\n",
    "    return x,flag"
   ]
  }
 ],
 "metadata": {
  "kernelspec": {
   "display_name": "base",
   "language": "python",
   "name": "python3"
  },
  "language_info": {
   "codemirror_mode": {
    "name": "ipython",
    "version": 3
   },
   "file_extension": ".py",
   "mimetype": "text/x-python",
   "name": "python",
   "nbconvert_exporter": "python",
   "pygments_lexer": "ipython3",
   "version": "3.11.5"
  }
 },
 "nbformat": 4,
 "nbformat_minor": 2
}
