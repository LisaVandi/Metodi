{
 "cells": [
  {
   "cell_type": "markdown",
   "id": "9edf6b43-5c77-43f5-a179-9986fc68abf8",
   "metadata": {},
   "source": [
    "# Esame di Metodi Numerici - 6 Luglio 2023\n",
    "## Turno II -- Ore 11.45"
   ]
  },
  {
   "cell_type": "markdown",
   "id": "ff8dd546-5e8d-4dde-ab61-51251c05bad2",
   "metadata": {},
   "source": [
    "## Esercizio 1\n"
   ]
  },
  {
   "cell_type": "markdown",
   "id": "84973346",
   "metadata": {},
   "source": [
    "Nel file ``Test_II.mat`` sono memorizzate le matrici A1, A2 ed A3 ed i vettori b1,b2,b3."
   ]
  },
  {
   "cell_type": "code",
   "execution_count": 54,
   "id": "417aea7e",
   "metadata": {},
   "outputs": [],
   "source": [
    "from scipy.io import loadmat\n",
    "import SolveTriangular\n",
    "import numpy as np\n",
    "import numpy.linalg as npl\n",
    "import matplotlib.pyplot as plt\n",
    "\n",
    "dati = loadmat('Test_II.mat')\n",
    "A1=dati[\"A1\"]\n",
    "A1=A1.astype(float)\n",
    "b1=dati[\"b1\"]\n",
    "b1=b1.astype(float)\n",
    "A2=dati[\"A2\"]\n",
    "A2=A2.astype(float)\n",
    "b2=dati[\"b2\"]\n",
    "b2=b2.astype(float)\n",
    "A3=dati[\"A3\"]\n",
    "A3=A3.astype(float)\n",
    "b3=dati[\"b3\"]\n",
    "b3=b3.astype(float)"
   ]
  },
  {
   "cell_type": "markdown",
   "id": "ced8c9f5",
   "metadata": {},
   "source": [
    " Risolvere i 3 sistemi lineari aventi ciascuno di essi come matrice dei coefficienti A1 e termine noto b1, A2 e termine noto b2, A3 e terimine noto b3  utilizzando il metodo più adatto per ciascuno di essi e  commentare i risultati ottenuti  giustificandoli alla luce della teoria."
   ]
  },
  {
   "cell_type": "code",
   "execution_count": 55,
   "id": "a4e41cc7",
   "metadata": {},
   "outputs": [
    {
     "name": "stdout",
     "output_type": "stream",
     "text": [
      "matrice A1 15x15\n",
      "marice A1 mal condizionata\n"
     ]
    },
    {
     "data": {
      "text/plain": [
       "<matplotlib.image.AxesImage at 0x1cad24ebb50>"
      ]
     },
     "execution_count": 55,
     "metadata": {},
     "output_type": "execute_result"
    },
    {
     "data": {
      "image/png": "[encoded data removed]",
      "text/plain": [
       "<Figure size 640x480 with 1 Axes>"
      ]
     },
     "metadata": {},
     "output_type": "display_data"
    }
   ],
   "source": [
    "# Studio la matrice A1 per comprendere quale metodo utilizzare\n",
    "m, n = A1.shape\n",
    "print(f'matrice A1 {m}x{n}') # piccola e quadrata \n",
    "if npl.cond(A1) < 100: \n",
    "    print('matrice A1 ben condizionata')\n",
    "elif npl.cond(A1) > 10**4: \n",
    "    print('marice A1 mal condizionata') # uso QR\n",
    "\n",
    "plt.spy(A1)"
   ]
  },
  {
   "cell_type": "code",
   "execution_count": 56,
   "id": "8451aaac",
   "metadata": {},
   "outputs": [],
   "source": [
    "\"\"\" \n",
    "Q matrice quadrata e ortogonale \n",
    "R triangolare SUPERIORE e non singolare \n",
    "Vale A = Q @ R\n",
    "\"\"\"\n",
    "def QR(A1, b): \n",
    "    Q, R = npl.qr(A1)\n",
    "    x, flag = SolveTriangular.Usolve(R, Q.T @ b)\n",
    "    if flag != 0: \n",
    "        print('metodo non applicabile')\n",
    "        return None\n",
    "    return x"
   ]
  },
  {
   "cell_type": "code",
   "execution_count": 57,
   "id": "3679b522",
   "metadata": {},
   "outputs": [
    {
     "name": "stdout",
     "output_type": "stream",
     "text": [
      "A1 x1 = b1 => x1 = [[1.]\n",
      " [1.]\n",
      " [1.]\n",
      " [1.]\n",
      " [1.]\n",
      " [1.]\n",
      " [1.]\n",
      " [1.]\n",
      " [1.]\n",
      " [1.]\n",
      " [1.]\n",
      " [1.]\n",
      " [1.]\n",
      " [1.]\n",
      " [1.]]\n"
     ]
    }
   ],
   "source": [
    "x1 = QR(A1, b1)\n",
    "print(f'A1 x1 = b1 => x1 = {x1}')"
   ]
  },
  {
   "cell_type": "code",
   "execution_count": 58,
   "id": "9694cf3a",
   "metadata": {},
   "outputs": [
    {
     "name": "stdout",
     "output_type": "stream",
     "text": [
      "matrice A2 15x6\n",
      "A2 ben condizionata\n"
     ]
    },
    {
     "data": {
      "text/plain": [
       "<matplotlib.image.AxesImage at 0x1cad259e990>"
      ]
     },
     "execution_count": 58,
     "metadata": {},
     "output_type": "execute_result"
    },
    {
     "data": {
      "image/png": "[encoded data removed]",
      "text/plain": [
       "<Figure size 640x480 with 1 Axes>"
      ]
     },
     "metadata": {},
     "output_type": "display_data"
    }
   ],
   "source": [
    "# matrice A2\n",
    "m, n = A2.shape\n",
    "print(f'matrice A2 {m}x{n}') # piccola ma rettangolare\n",
    "# studio il condizionamento \n",
    "if npl.cond(A2) < 100: \n",
    "    print(f'A2 ben condizionata') #equazioni normali\n",
    "elif npl.cond(A2) > 10**4:\n",
    "    print(f'A2 mal condizionata') # SVDLS\n",
    "else: print('A2 mediamente mal condizionata') # qrLS\n",
    "\n",
    "plt.spy(A2)"
   ]
  },
  {
   "cell_type": "code",
   "execution_count": 59,
   "id": "a949c66a",
   "metadata": {},
   "outputs": [],
   "source": [
    "def eqnorm(A,b):\n",
    "#Risolve un sistema sovradeterminato con il metodo delle equazioni normali\n",
    "    G = A.T @ A    \n",
    "    f = A.T @ b\n",
    "    L = npl.cholesky(G)\n",
    "    U = L.T   \n",
    "    z, flag = SolveTriangular.Lsolve(L, f)\n",
    "    if flag == 0:\n",
    "        x, flag = SolveTriangular.Usolve(U, z)\n",
    "    \n",
    "    return x"
   ]
  },
  {
   "cell_type": "code",
   "execution_count": 60,
   "id": "c3dbff1e",
   "metadata": {},
   "outputs": [
    {
     "name": "stdout",
     "output_type": "stream",
     "text": [
      "A2 x2 = b2 => x2 = [[1.]\n",
      " [1.]\n",
      " [1.]\n",
      " [1.]\n",
      " [1.]\n",
      " [1.]]\n"
     ]
    }
   ],
   "source": [
    "x2 = eqnorm(A2, b2)\n",
    "print(f'A2 x2 = b2 => x2 = {x2}')"
   ]
  },
  {
   "cell_type": "code",
   "execution_count": 67,
   "id": "3a90455e",
   "metadata": {},
   "outputs": [
    {
     "name": "stdout",
     "output_type": "stream",
     "text": [
      "A3 è 225x225\n",
      "A3 non simmetrica\n",
      "A3 ben condizionata\n"
     ]
    },
    {
     "data": {
      "text/plain": [
       "<matplotlib.image.AxesImage at 0x1cad4b53f50>"
      ]
     },
     "execution_count": 67,
     "metadata": {},
     "output_type": "execute_result"
    },
    {
     "data": {
      "image/png": "[encoded data removed]",
      "text/plain": [
       "<Figure size 640x480 with 1 Axes>"
      ]
     },
     "metadata": {},
     "output_type": "display_data"
    }
   ],
   "source": [
    "# matrice A3 \n",
    "m, n = A3.shape\n",
    "print(f'A3 è {m}x{n}') # grande e quadrata\n",
    "if np.all(A3 == A3.T): \n",
    "    print('A3 simmetrica')\n",
    "    if np.all(npl.eigvals(A3) > 0): \n",
    "        print('A3 definita positiva')\n",
    "    else: print('A3 non definita positiva')\n",
    "else: print('A3 non simmetrica')\n",
    "\n",
    "if npl.cond(A3) < 100: \n",
    "    print('A3 ben condizionata')\n",
    "elif npl.cond(A3) > 10**4:\n",
    "    print('A3 mal condizionata')\n",
    "else: print('A3 mediamente mal condizionata')\n",
    "plt.spy(A3)"
   ]
  },
  {
   "cell_type": "code",
   "execution_count": 65,
   "id": "0a25eead",
   "metadata": {},
   "outputs": [],
   "source": [
    "def jacobi(A,b,x0,toll,it_max):\n",
    "    errore=1000\n",
    "    d=np.diag(A)\n",
    "    n=A.shape[0]\n",
    "    invM=np.diag(1/d)\n",
    "\n",
    "    E = np.tril(A, -1)\n",
    "    F = np.triu(A, 1)\n",
    "    N = - (E + F) \n",
    "    T = invM @ N\n",
    " \n",
    "    autovalori = np.linalg.eigvals(T)\n",
    "    raggiospettrale = np.max(np.abs(autovalori))\n",
    "    print(\"raggio spettrale jacobi\", raggiospettrale)\n",
    "    it=0\n",
    "    \n",
    "    er_vet=[]\n",
    "    while er_vet >= toll and it < it_max:\n",
    "        x = (T @ x0) + (invM @ b)\n",
    "        errore=np.linalg.norm(x-x0)/np.linalg.norm(x)\n",
    "        er_vet.append(errore)\n",
    "        x0=x.copy()\n",
    "        it=it+1\n",
    "    return x,it,er_vet"
   ]
  },
  {
   "cell_type": "code",
   "execution_count": 66,
   "id": "9eab6088",
   "metadata": {},
   "outputs": [
    {
     "name": "stdout",
     "output_type": "stream",
     "text": [
      "raggio spettrale jacobi 0.08830920241884316\n"
     ]
    },
    {
     "ename": "TypeError",
     "evalue": "'>=' not supported between instances of 'list' and 'float'",
     "output_type": "error",
     "traceback": [
      "\u001b[1;31m---------------------------------------------------------------------------\u001b[0m",
      "\u001b[1;31mTypeError\u001b[0m                                 Traceback (most recent call last)",
      "Cell \u001b[1;32mIn[66], line 5\u001b[0m\n\u001b[0;32m      2\u001b[0m toll \u001b[38;5;241m=\u001b[39m \u001b[38;5;241m1e-6\u001b[39m\n\u001b[0;32m      3\u001b[0m itmax \u001b[38;5;241m=\u001b[39m \u001b[38;5;241m2000\u001b[39m \n\u001b[1;32m----> 5\u001b[0m x3 \u001b[38;5;241m=\u001b[39m jacobi(A3, b3, x0, toll, itmax)\n\u001b[0;32m      6\u001b[0m \u001b[38;5;28mprint\u001b[39m(\u001b[38;5;124mf\u001b[39m\u001b[38;5;124m'\u001b[39m\u001b[38;5;124mx3 soluzione di A3 x3 = b3 è \u001b[39m\u001b[38;5;132;01m{\u001b[39;00mx3\u001b[38;5;132;01m}\u001b[39;00m\u001b[38;5;124m'\u001b[39m)\n",
      "Cell \u001b[1;32mIn[65], line 18\u001b[0m, in \u001b[0;36mjacobi\u001b[1;34m(A, b, x0, toll, it_max)\u001b[0m\n\u001b[0;32m     15\u001b[0m it\u001b[38;5;241m=\u001b[39m\u001b[38;5;241m0\u001b[39m\n\u001b[0;32m     17\u001b[0m er_vet\u001b[38;5;241m=\u001b[39m[]\n\u001b[1;32m---> 18\u001b[0m \u001b[38;5;28;01mwhile\u001b[39;00m er_vet \u001b[38;5;241m>\u001b[39m\u001b[38;5;241m=\u001b[39m toll \u001b[38;5;129;01mand\u001b[39;00m it \u001b[38;5;241m<\u001b[39m it_max:\n\u001b[0;32m     19\u001b[0m     x \u001b[38;5;241m=\u001b[39m (T \u001b[38;5;241m@\u001b[39m x0) \u001b[38;5;241m+\u001b[39m (invM \u001b[38;5;241m@\u001b[39m b)\n\u001b[0;32m     20\u001b[0m     errore\u001b[38;5;241m=\u001b[39mnp\u001b[38;5;241m.\u001b[39mlinalg\u001b[38;5;241m.\u001b[39mnorm(x\u001b[38;5;241m-\u001b[39mx0)\u001b[38;5;241m/\u001b[39mnp\u001b[38;5;241m.\u001b[39mlinalg\u001b[38;5;241m.\u001b[39mnorm(x)\n",
      "\u001b[1;31mTypeError\u001b[0m: '>=' not supported between instances of 'list' and 'float'"
     ]
    }
   ],
   "source": [
    "x0 = np.array([0] * n).T\n",
    "toll = 1e-6\n",
    "itmax = 2000 \n",
    "\n",
    "x3 = jacobi(A3, b3, x0, toll, itmax)\n",
    "print(f'x3 soluzione di A3 x3 = b3 è {x3}')"
   ]
  },
  {
   "cell_type": "markdown",
   "id": "37d881ba",
   "metadata": {},
   "source": [
    "Verificare se le matrici sono malcondizionate, dire teoricamente cosa questo implica e verificarlo sperimentalmente."
   ]
  },
  {
   "cell_type": "markdown",
   "id": "32d48859",
   "metadata": {},
   "source": [
    "Condizionamento già calcolato sopra per le 3 matrici per la scelta del metodo. \n",
    "- A1 è mal condizionata\n",
    "- A2 è ben condizionata\n",
    "- A3 è ben condizionata"
   ]
  },
  {
   "cell_type": "markdown",
   "id": "6c837c7a-fc8d-4541-9a7d-0315589b6b77",
   "metadata": {},
   "source": [
    "# Esercizio 2"
   ]
  },
  {
   "cell_type": "markdown",
   "id": "602927f7-4366-4f99-9fe6-5fb4ee0ece45",
   "metadata": {},
   "source": [
    "Data l'equazione di 2° grado $$\\frac{1}{2} x^2+2bx-c=0$$"
   ]
  },
  {
   "cell_type": "markdown",
   "id": "7f29d3fc-3800-4a2e-93a1-9c31f878c266",
   "metadata": {},
   "source": [
    "con $b=10^7, c=10^{-i},i=-5,\\cdots,12 $\n",
    "\n",
    "a) Scrivere le due formule algebriche per ricavare i valori delle 2 soluzioni\n",
    "                                                                                    1 punto"
   ]
  },
  {
   "cell_type": "code",
   "execution_count": 24,
   "id": "f8f38a42",
   "metadata": {},
   "outputs": [],
   "source": [
    "import numpy as np"
   ]
  },
  {
   "cell_type": "code",
   "execution_count": 22,
   "id": "d76e2bd6",
   "metadata": {},
   "outputs": [
    {
     "name": "stdout",
     "output_type": "stream",
     "text": [
      "soluzione x1 = 0.0\n",
      "soluzione x2 = -40000000.0\n"
     ]
    }
   ],
   "source": [
    "a = 1\n",
    "b = 4*10**7\n",
    "c_val = [-2*10**(-i) for i in range (-5, 13)]\n",
    "\n",
    "for c in c_val:\n",
    "    x1 = (- b + np.sqrt(b**2 - 4 * a * c)) / (2*a)\n",
    "    x2 = (- b - np.sqrt(b**2 - 4 * a * c)) / (2*a)\n",
    "\n",
    "print(f'soluzione x1 = {x1}')\n",
    "print(f'soluzione x2 = {x2}')"
   ]
  },
  {
   "cell_type": "markdown",
   "id": "bffee777",
   "metadata": {},
   "source": [
    "b) Studiare l'indice di condizionamento delle 2 formule algebriche, facendo uso del risultato teorico visto a lezione riguardo l'indice di condizionamento della valutazione di una funzione. (Spiegare il significato di problema mal condizionato) e dire quale delle due formule è malcondizionata. Per quali valori di $c$ il problema risulta ben condizionato?\n",
    "\n",
    "                                                                                    5 punti"
   ]
  },
  {
   "cell_type": "code",
   "execution_count": 26,
   "id": "d8b78f95",
   "metadata": {},
   "outputs": [
    {
     "name": "stdout",
     "output_type": "stream",
     "text": [
      "soluzione x1 mal condizionata\n",
      "soluzione x2 ben condizionata\n"
     ]
    },
    {
     "name": "stderr",
     "output_type": "stream",
     "text": [
      "C:\\Users\\lisav\\AppData\\Local\\Temp\\ipykernel_2700\\3424723918.py:7: RuntimeWarning: divide by zero encountered in scalar divide\n",
      "  K1 = np.abs( (x1_der / x1) * (b**2 - 4 * a * c) )\n"
     ]
    }
   ],
   "source": [
    "# calcolo la derivata rispetto a x1 e x2\n",
    "# scelgo delta = x => derivo rispetto ciò\n",
    "x1_der = - 1/(4 * a * ((b**2 - 4 * a * c)**(1/2)))\n",
    "x2_der = 1/(4 * a * ((b**2 - 4 * a * c)**(1/2)))\n",
    "\n",
    "# K = |f'(x) / f(x) * x|\n",
    "K1 = np.abs( (x1_der / x1) * (b**2 - 4 * a * c) ) \n",
    "if K1 <1: \n",
    "    print('soluzione x1 ben condizionata')\n",
    "else: print('soluzione x1 mal condizionata')\n",
    "\n",
    "K2 = np.abs( (x2_der / x2) * (b**2 - 4 * a * c) ) \n",
    "if K2 <1: \n",
    "    print('soluzione x2 ben condizionata')\n",
    "else: print('soluzione x2 mal condizionata')"
   ]
  },
  {
   "cell_type": "markdown",
   "id": "47d4b769",
   "metadata": {},
   "source": [
    "c) Nel caso in cui una delle due formule risulti mal condizionata, proporre una soluzione algebricamente equivalente che non sia malcondizionata.\n",
    "\n",
    "                                                                                    3 punti"
   ]
  },
  {
   "cell_type": "code",
   "execution_count": 27,
   "id": "c68325b9",
   "metadata": {},
   "outputs": [
    {
     "name": "stdout",
     "output_type": "stream",
     "text": [
      "nuova soluzione x1 meglio condizionata = 7.999999999999999e-05\n"
     ]
    }
   ],
   "source": [
    "# soluzione x1 mal condizionata => sfrutto la relazione x1 * x2 = c / a \n",
    "x1_new = x2 * c / a\n",
    "print(f'nuova soluzione x1 meglio condizionata = {x1_new}') "
   ]
  },
  {
   "cell_type": "markdown",
   "id": "0f7e2279",
   "metadata": {},
   "source": [
    "Ricordiamo che l'operazione di somma, nell'insieme dei numeri di macchina, è pericolosa. In particolare, risulta non stabile nel caso in cui si sommino due valori vicini in modulo, ma di segno opposto. \n",
    "Ciò è accaduto nel trovare la soluzione x. Dunque, sfrutto la relazione x1*x2 = c/a per trovare la soluzione mal condizionata."
   ]
  },
  {
   "cell_type": "markdown",
   "id": "a37c8888-3dfe-4ea5-a93b-e0adab565e1b",
   "metadata": {},
   "source": [
    "                                                                        Totale 9 punti"
   ]
  },
  {
   "cell_type": "markdown",
   "id": "911860d3-45d8-45fc-99f2-bf79c64f1a80",
   "metadata": {},
   "source": [
    "## Domanda intelligenza artificiale"
   ]
  },
  {
   "cell_type": "markdown",
   "id": "31f72b3e-3533-4866-bf02-44fea1b7c825",
   "metadata": {},
   "source": [
    " Limiti delle reti MLP (multilayer Perceptron) ed introduzione delle Reti neurali Convoluzionali. \n",
    "- Architettura di una rete neurale convoluzionale: strati convoluzionali, attivazione non lineare e pooling + parte fully connected.\n",
    "- Loss function per il task della regressione.  Training di una rete. \n",
    "- Cenni sull'algoritmo di backpropagation per il calcolo delle derivate parziale della funzione costo rispetto ai pesi ditutti i layer .\n",
    "- Tecniche di Ottimizzazione: metodo di discesa del gradient batch, metodo del gradiente stocastico (SGD) ,metodo del gradiente stocastico minibatch.\n",
    "                                                                                [7  punti]\n"
   ]
  },
  {
   "cell_type": "code",
   "execution_count": null,
   "id": "5503e7f7-75e3-4f25-adcd-0a4feff1bf4a",
   "metadata": {},
   "outputs": [],
   "source": []
  }
 ],
 "metadata": {
  "kernelspec": {
   "display_name": "Python 3 (ipykernel)",
   "language": "python",
   "name": "python3"
  },
  "language_info": {
   "codemirror_mode": {
    "name": "ipython",
    "version": 3
   },
   "file_extension": ".py",
   "mimetype": "text/x-python",
   "name": "python",
   "nbconvert_exporter": "python",
   "pygments_lexer": "ipython3",
   "version": "3.11.5"
  }
 },
 "nbformat": 4,
 "nbformat_minor": 5
}
