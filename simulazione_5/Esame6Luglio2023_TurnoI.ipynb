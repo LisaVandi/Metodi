{
 "cells": [
  {
   "cell_type": "markdown",
   "id": "9edf6b43-5c77-43f5-a179-9986fc68abf8",
   "metadata": {},
   "source": [
    "# Esame di Metodi Numerici - 6 Luglio 2023\n",
    "\n",
    "##                             Turno I  ore 9-11.30\n"
   ]
  },
  {
   "cell_type": "markdown",
   "id": "ff8dd546-5e8d-4dde-ab61-51251c05bad2",
   "metadata": {},
   "source": [
    "## Esercizio 1\n"
   ]
  },
  {
   "cell_type": "markdown",
   "id": "378dc3b4-702c-4e2f-b388-fc5275db9a75",
   "metadata": {},
   "source": [
    "Nel file ``Test_I.mat`` sono memorizzate le matrici A1, A2 ed A3 ed i vettori b1,b2,b3. Risolvere i 3 sistemi lineari aventi ciascuno di essi come matrice dei coefficienti A1 e termine noto b1, A2 e termine noto b2, A3 e terimine noto b3  utilizzando il metodo più adatto per ciascuno di essi e  commentare i risultati ottenuti  giustificandoli alla luce della teoria.\n",
    "Verificare se le matrici sono malcondizionate, dire teoricamente cosa questo implica e verificarlo sperimentalmente almeno per una di esse.\n",
    "\n",
    "\n",
    "Per la lettura dei dati procedere nel seguente modo:\n",
    "\n",
    "``from scipy.io import loadmat``\n",
    "\n",
    "``import numpy as np``\n",
    "\n",
    "``dati = loadmat('Test_I.mat')``\n",
    "\n",
    "``A1=dati[\"A1\"] ``\n",
    "\n",
    "``A1=A1.astype(float)``\n",
    "\n",
    "`` b1=dati[\"b1\"] ``\n",
    "\n",
    "`` b1=b1.astype(float)``\n",
    "\n",
    "``A2=dati[\"A2\"] ``\n",
    "\n",
    "``A2=A2.astype(float)``\n",
    "\n",
    "`` b2=dati[\"b2\"] ``\n",
    "\n",
    "`` b2=b2.astype(float)``\n",
    "\n",
    "``A3=dati[\"A3\"] ``\n",
    "\n",
    "``A3=A3.astype(float)``\n",
    "\n",
    "`` b3=dati[\"b3\"] ``\n",
    "\n",
    "`` b3=b3.astype(float)``\n",
    "\n",
    "\n",
    "\n",
    "                                                                    Punti 16"
   ]
  },
  {
   "cell_type": "code",
   "execution_count": 48,
   "id": "d6e82d75",
   "metadata": {},
   "outputs": [],
   "source": [
    "from scipy.io import loadmat\n",
    "import numpy as np\n",
    "import numpy.linalg as npl\n",
    "import SolveTriangular\n",
    "import matplotlib.pyplot as plt\n",
    "import scipy.linalg as spl\n",
    "\n",
    "dati = loadmat('Test_I.mat')\n",
    "A1=dati[\"A1\"]\n",
    "A1=A1.astype(float)\n",
    "b1=dati[\"b1\"]\n",
    "b1=b1.astype(float)\n",
    "A2=dati[\"A2\"]\n",
    "A2=A2.astype(float)\n",
    "b2=dati[\"b2\"]\n",
    "b2=b2.astype(float)\n",
    "A3=dati[\"A3\"]\n",
    "A3=A3.astype(float)\n",
    "b3=dati[\"b3\"]\n",
    "b3=b3.astype(float)"
   ]
  },
  {
   "cell_type": "code",
   "execution_count": 35,
   "id": "b2af25ec",
   "metadata": {},
   "outputs": [
    {
     "name": "stdout",
     "output_type": "stream",
     "text": [
      "matrice A1 di dimensioni 10x10\n",
      "matrice A1 densa\n",
      "matrice A1 simmetrica\n",
      "matrice A1 non definita positiva\n"
     ]
    },
    {
     "data": {
      "text/plain": [
       "<matplotlib.image.AxesImage at 0x1626ccb7290>"
      ]
     },
     "execution_count": 35,
     "metadata": {},
     "output_type": "execute_result"
    },
    {
     "data": {
      "image/png": "[encoded data removed]",
      "text/plain": [
       "<Figure size 640x480 with 1 Axes>"
      ]
     },
     "metadata": {},
     "output_type": "display_data"
    }
   ],
   "source": [
    "# Studio la matrice A1 per comprendere che metodo utilizzare\n",
    "m,n = A1.shape\n",
    "print(f'matrice A1 di dimensioni {m}x{n}')\n",
    "if np.count_nonzero(A1)*100/(m*n) < 33:\n",
    "    print('matrice A1 sparsa')\n",
    "else: print('matrice A1 densa')\n",
    "if np.all(A1 == A1.T):\n",
    "    print(\"matrice A1 simmetrica\")\n",
    "    if np.all(npl.eigvals(A1)>0): \n",
    "        print(\"matrice A1 definita positiva\")\n",
    "    else: print(\"matrice A1 non definita positiva\")\n",
    "else: print(\"matrice A1 non simmetrica\")\n",
    "\n",
    "plt.spy(A1)"
   ]
  },
  {
   "cell_type": "code",
   "execution_count": 36,
   "id": "75565e07",
   "metadata": {},
   "outputs": [
    {
     "name": "stdout",
     "output_type": "stream",
     "text": [
      "A1 è ben condizionata? False\n"
     ]
    }
   ],
   "source": [
    "# A1 è piccola, densa e simmetrica => o Gauss o QR\n",
    "# per QR, mal condizionata\n",
    "print(f'A1 è ben condizionata? {npl.cond(A1) < 100}')"
   ]
  },
  {
   "cell_type": "code",
   "execution_count": 37,
   "id": "4aa58a80",
   "metadata": {},
   "outputs": [],
   "source": [
    "# uso QR\n",
    "def QR(A, b): \n",
    "    Q, R = npl.qr(A)\n",
    "    x, flag = SolveTriangular.Usolve(R, Q.T @ b)\n",
    "    return x, flag"
   ]
  },
  {
   "cell_type": "code",
   "execution_count": 38,
   "id": "2fca0e2e",
   "metadata": {},
   "outputs": [
    {
     "name": "stdout",
     "output_type": "stream",
     "text": [
      "Soluzione x1 = [[1.]\n",
      " [1.]\n",
      " [1.]\n",
      " [1.]\n",
      " [1.]\n",
      " [1.]\n",
      " [1.]\n",
      " [1.]\n",
      " [1.]\n",
      " [1.]]\n"
     ]
    }
   ],
   "source": [
    "x1, flag1 = QR(A1, b1)\n",
    "print(f'Soluzione x1 = {x1}')"
   ]
  },
  {
   "cell_type": "code",
   "execution_count": 41,
   "id": "389adce3",
   "metadata": {},
   "outputs": [
    {
     "name": "stdout",
     "output_type": "stream",
     "text": [
      "matrice A1 di dimensioni 25x10\n",
      "matrice A2 densa\n",
      "matrice A2 non simmetrica\n"
     ]
    },
    {
     "name": "stderr",
     "output_type": "stream",
     "text": [
      "C:\\Users\\lisav\\AppData\\Local\\Temp\\ipykernel_23344\\3086435400.py:7: DeprecationWarning: elementwise comparison failed; this will raise an error in the future.\n",
      "  if np.all(A2 == A2.T):\n"
     ]
    },
    {
     "data": {
      "text/plain": [
       "<matplotlib.image.AxesImage at 0x1626cd2f0d0>"
      ]
     },
     "execution_count": 41,
     "metadata": {},
     "output_type": "execute_result"
    },
    {
     "data": {
      "image/png": "[encoded data removed]",
      "text/plain": [
       "<Figure size 640x480 with 1 Axes>"
      ]
     },
     "metadata": {},
     "output_type": "display_data"
    }
   ],
   "source": [
    "# Studio la matrice A2 per comprendere che metodo utilizzare\n",
    "m,n = A2.shape\n",
    "print(f'matrice A1 di dimensioni {m}x{n}')\n",
    "if np.count_nonzero(A2)*100/(m*n) < 33:\n",
    "    print('matrice A2 sparsa')\n",
    "else: print('matrice A2 densa')\n",
    "if np.all(A2 == A2.T):\n",
    "    print(\"matrice A2 simmetrica\")\n",
    "    if np.all(npl.eigvals(A2)>0): \n",
    "        print(\"matrice A2 definita positiva\")\n",
    "    else: print(\"matrice A2 non definita positiva\")\n",
    "else: print(\"matrice A2 non simmetrica\")\n",
    "plt.spy(A2)"
   ]
  },
  {
   "cell_type": "code",
   "execution_count": 47,
   "id": "bdd74cf5",
   "metadata": {},
   "outputs": [
    {
     "name": "stdout",
     "output_type": "stream",
     "text": [
      "A2 è mal condizionata = True\n"
     ]
    }
   ],
   "source": [
    "# matrice A2 rettangolare, densa e non simmetrica\n",
    "# per capire che metodo applicare, studio il condizionamento di A2\n",
    "print(f'A2 è mal condizionata = {npl.cond(A2) > 10^4}') # altamente mal condizionata"
   ]
  },
  {
   "cell_type": "code",
   "execution_count": 52,
   "id": "d5434463",
   "metadata": {},
   "outputs": [
    {
     "name": "stdout",
     "output_type": "stream",
     "text": [
      "Soluzione x2 = [[1.]\n",
      " [1.]\n",
      " [1.]\n",
      " [1.]\n",
      " [1.]\n",
      " [1.]\n",
      " [1.]\n",
      " [1.]\n",
      " [1.]\n",
      " [1.]]\n"
     ]
    }
   ],
   "source": [
    "# QRLS \n",
    "def qrLS(A,b):\n",
    "#Risolve un sistema sovradeterminato con il metodo QR-LS\n",
    "    n=A.shape[1]  # numero di colonne di A\n",
    "    Q,R=spl.qr(A)\n",
    "    h = Q.T @ b\n",
    "    x,flag=SolveTriangular.Usolve(R[0:n][0:n], h[0:n])\n",
    "    residuo=np.linalg.norm(h[n:])**2\n",
    "    return x,residuo\n",
    "\n",
    "x2, residuo2 = qrLS(A2, b2)\n",
    "print(f'Soluzione x2 = {x2}')"
   ]
  },
  {
   "cell_type": "code",
   "execution_count": 42,
   "id": "1b326c17",
   "metadata": {},
   "outputs": [
    {
     "name": "stdout",
     "output_type": "stream",
     "text": [
      "matrice A3 di dimensioni 225x225\n",
      "matrice A3 sparsa\n",
      "matrice A3 simmetrica\n",
      "matrice A3 definita positiva\n"
     ]
    },
    {
     "data": {
      "text/plain": [
       "<matplotlib.image.AxesImage at 0x1626cb61dd0>"
      ]
     },
     "execution_count": 42,
     "metadata": {},
     "output_type": "execute_result"
    },
    {
     "data": {
      "image/png": "[encoded data removed]",
      "text/plain": [
       "<Figure size 640x480 with 1 Axes>"
      ]
     },
     "metadata": {},
     "output_type": "display_data"
    }
   ],
   "source": [
    "# Studio la matrice A3 per comprendere che metodo utilizzare\n",
    "m,n = A3.shape\n",
    "print(f'matrice A3 di dimensioni {m}x{n}')\n",
    "if np.count_nonzero(A3)*100/(m*n) < 33:\n",
    "    print('matrice A3 sparsa')\n",
    "else: print('matrice A3 densa')\n",
    "if np.all(A3 == A3.T):\n",
    "    print(\"matrice A3 simmetrica\")\n",
    "    if np.all(npl.eigvals(A3)>0): \n",
    "        print(\"matrice A3 definita positiva\")\n",
    "    else: print(\"matrice A3 non definita positiva\")\n",
    "else: print(\"matrice A3 non simmetrica\")\n",
    "\n",
    "plt.spy(A3)"
   ]
  },
  {
   "cell_type": "code",
   "execution_count": 55,
   "id": "8878f408",
   "metadata": {},
   "outputs": [
    {
     "name": "stdout",
     "output_type": "stream",
     "text": [
      "soluzione x3 = [[0.99997516 0.99997516 0.99997516 ... 0.99997516 0.99997516 0.99997516]\n",
      " [0.9999522  0.9999522  0.9999522  ... 0.9999522  0.9999522  0.9999522 ]\n",
      " [0.99992926 0.99992926 0.99992926 ... 0.99992926 0.99992926 0.99992926]\n",
      " ...\n",
      " [0.99992926 0.99992926 0.99992926 ... 0.99992926 0.99992926 0.99992926]\n",
      " [0.9999522  0.9999522  0.9999522  ... 0.9999522  0.9999522  0.9999522 ]\n",
      " [0.99997516 0.99997516 0.99997516 ... 0.99997516 0.99997516 0.99997516]], ottenuta in 400 iterazioni\n"
     ]
    }
   ],
   "source": [
    "# uso metodi di discesa (simmetrica e definita positiva)\n",
    "\n",
    "def steepestdescent(A,b,x0,itmax,tol):\n",
    "    n,m=A.shape\n",
    "    if n!=m:\n",
    "        print(\"Matrice non quadrata\")\n",
    "        return [],[]\n",
    "    \n",
    "   # inizializzare le variabili necessarie\n",
    "    x = x0     \n",
    "    r = A@x-b\n",
    "    p = -r\n",
    "    it = 0\n",
    "    nb=np.linalg.norm(b)\n",
    "    errore=np.linalg.norm(r)/nb\n",
    "    vec_sol=[]\n",
    "    vec_sol.append(x)\n",
    "    vet_r=[]\n",
    "    vet_r.append(errore)\n",
    "\n",
    "    while errore >= tol and it < itmax:\n",
    "        it=it+1\n",
    "        Ap = A@p       \n",
    "        alpha = -(r.T @ p) / (p.T @ Ap)\n",
    "        x = x + alpha * p\n",
    "        vec_sol.append(x)\n",
    "        r=r+alpha*Ap\n",
    "        errore=np.linalg.norm(r)/nb\n",
    "        vet_r.append(errore)\n",
    "        p = -r\n",
    "\n",
    "    return x,vet_r,vec_sol,it\n",
    "x0 = np.array([0]*n).T\n",
    "itmax = 400\n",
    "tol = 1e-6 \n",
    "\n",
    "x3, vet_r3, vec_sol3, it3 = steepestdescent(A3,b3,x0,itmax,tol)\n",
    "print(f'soluzione x3 = {x3}, ottenuta in {it3} iterazioni')"
   ]
  },
  {
   "cell_type": "markdown",
   "id": "6c837c7a-fc8d-4541-9a7d-0315589b6b77",
   "metadata": {},
   "source": [
    "# Esercizio 2"
   ]
  },
  {
   "cell_type": "markdown",
   "id": "602927f7-4366-4f99-9fe6-5fb4ee0ece45",
   "metadata": {},
   "source": [
    "Data l'equazione di 2° grado $$\\frac{1}{2} x^2+2bx-c=0$$"
   ]
  },
  {
   "cell_type": "markdown",
   "id": "900acea8",
   "metadata": {},
   "source": [
    "con $b=10^8, c=2^{-i},i=-5,\\cdots, 9$\n",
    "\n",
    "a) Scrivere le due formule algebriche per ricavare i valori delle 2 soluzioni\n",
    "\n",
    "                                                                                    1 punto"
   ]
  },
  {
   "cell_type": "code",
   "execution_count": 6,
   "id": "d2c4851c",
   "metadata": {},
   "outputs": [],
   "source": [
    "import numpy as np"
   ]
  },
  {
   "cell_type": "code",
   "execution_count": 15,
   "id": "86716029",
   "metadata": {},
   "outputs": [
    {
     "name": "stdout",
     "output_type": "stream",
     "text": [
      "soluzione x1 = [ 0.00000000e+00  0.00000000e+00 -2.98023224e-08 -2.98023224e-08\n",
      " -2.98023224e-08 -2.98023224e-08 -5.96046448e-08 -8.94069672e-08\n",
      " -8.94069672e-08  0.00000000e+00  0.00000000e+00  0.00000000e+00\n",
      "  0.00000000e+00  0.00000000e+00  0.00000000e+00  0.00000000e+00\n",
      "  0.00000000e+00  0.00000000e+00  0.00000000e+00  0.00000000e+00\n",
      "  0.00000000e+00  0.00000000e+00  0.00000000e+00  0.00000000e+00\n",
      "  0.00000000e+00  0.00000000e+00  0.00000000e+00  0.00000000e+00\n",
      "  0.00000000e+00  0.00000000e+00  0.00000000e+00  0.00000000e+00\n",
      "  0.00000000e+00  0.00000000e+00  0.00000000e+00  0.00000000e+00\n",
      "  0.00000000e+00  0.00000000e+00  0.00000000e+00  0.00000000e+00\n",
      "  0.00000000e+00  0.00000000e+00  0.00000000e+00  0.00000000e+00\n",
      "  0.00000000e+00  0.00000000e+00  0.00000000e+00  0.00000000e+00\n",
      "  0.00000000e+00  0.00000000e+00  0.00000000e+00  0.00000000e+00\n",
      "  0.00000000e+00  0.00000000e+00  0.00000000e+00  0.00000000e+00\n",
      "  0.00000000e+00  0.00000000e+00  0.00000000e+00  0.00000000e+00\n",
      "  0.00000000e+00  0.00000000e+00  0.00000000e+00  0.00000000e+00\n",
      "  0.00000000e+00  0.00000000e+00  0.00000000e+00  0.00000000e+00\n",
      "  0.00000000e+00  0.00000000e+00  0.00000000e+00  0.00000000e+00\n",
      "  0.00000000e+00  0.00000000e+00  0.00000000e+00  0.00000000e+00\n",
      "  0.00000000e+00  0.00000000e+00  0.00000000e+00  0.00000000e+00\n",
      "  0.00000000e+00  0.00000000e+00  0.00000000e+00  0.00000000e+00\n",
      "  0.00000000e+00  0.00000000e+00  0.00000000e+00  0.00000000e+00\n",
      "  0.00000000e+00  0.00000000e+00  0.00000000e+00  0.00000000e+00\n",
      "  0.00000000e+00  0.00000000e+00  0.00000000e+00  2.98023224e-08\n",
      "  2.98023224e-08  2.98023224e-08  2.98023224e-08  0.00000000e+00], \n",
      "soluzione x2 = [-4.e+08 -4.e+08 -4.e+08 -4.e+08 -4.e+08 -4.e+08 -4.e+08 -4.e+08 -4.e+08\n",
      " -4.e+08 -4.e+08 -4.e+08 -4.e+08 -4.e+08 -4.e+08 -4.e+08 -4.e+08 -4.e+08\n",
      " -4.e+08 -4.e+08 -4.e+08 -4.e+08 -4.e+08 -4.e+08 -4.e+08 -4.e+08 -4.e+08\n",
      " -4.e+08 -4.e+08 -4.e+08 -4.e+08 -4.e+08 -4.e+08 -4.e+08 -4.e+08 -4.e+08\n",
      " -4.e+08 -4.e+08 -4.e+08 -4.e+08 -4.e+08 -4.e+08 -4.e+08 -4.e+08 -4.e+08\n",
      " -4.e+08 -4.e+08 -4.e+08 -4.e+08 -4.e+08 -4.e+08 -4.e+08 -4.e+08 -4.e+08\n",
      " -4.e+08 -4.e+08 -4.e+08 -4.e+08 -4.e+08 -4.e+08 -4.e+08 -4.e+08 -4.e+08\n",
      " -4.e+08 -4.e+08 -4.e+08 -4.e+08 -4.e+08 -4.e+08 -4.e+08 -4.e+08 -4.e+08\n",
      " -4.e+08 -4.e+08 -4.e+08 -4.e+08 -4.e+08 -4.e+08 -4.e+08 -4.e+08 -4.e+08\n",
      " -4.e+08 -4.e+08 -4.e+08 -4.e+08 -4.e+08 -4.e+08 -4.e+08 -4.e+08 -4.e+08\n",
      " -4.e+08 -4.e+08 -4.e+08 -4.e+08 -4.e+08 -4.e+08 -4.e+08 -4.e+08 -4.e+08\n",
      " -4.e+08]\n"
     ]
    }
   ],
   "source": [
    "b = 1e8 * 2\n",
    "c = np.zeros(100)\n",
    "a = 1/2\n",
    "\n",
    "for i in range(-5, 9):\n",
    "    c[i] = -2*(-i) \n",
    "\n",
    "x1 = -b + np.sqrt(b**2 - 4 * a * c)\n",
    "x2 = -b - np.sqrt(b**2 - 4 * a * c) \n",
    "print(f'soluzione x1 = {x1}, \\nsoluzione x2 = {x2}')"
   ]
  },
  {
   "cell_type": "markdown",
   "id": "b7f3aef4",
   "metadata": {},
   "source": [
    "b) Studiare l'indice di condizionamento delle 2 formule algebriche, facendo uso del risultato teorico visto a lezione riguardo l'indice di condizionamento della valutazione di una funzione. (Spiegare il significato di problema mal condizionato) e dire quale delle due formule è malcondizionata. Per quali valori di $c$ il problema risulterebbe ben condizionato?\n",
    "\n",
    "                                                                                    5 punti"
   ]
  },
  {
   "cell_type": "markdown",
   "id": "6a460a2c",
   "metadata": {},
   "source": [
    "Innanzitutto, definiamo problema mal condizionato un problema in cui piccole perturbazioni sui dati si amplificano in maniera significativa."
   ]
  },
  {
   "cell_type": "code",
   "execution_count": null,
   "id": "c4ed3d04",
   "metadata": {},
   "outputs": [],
   "source": []
  },
  {
   "cell_type": "markdown",
   "id": "ae52c159",
   "metadata": {},
   "source": [
    "Nel caso in cui una delle due formule risulti mal condizionata, proporre una soluzione algebricamente equivalente che non sia malcondizionata.\n",
    "\n",
    "                                                                                    3 punti"
   ]
  },
  {
   "cell_type": "markdown",
   "id": "911860d3-45d8-45fc-99f2-bf79c64f1a80",
   "metadata": {},
   "source": [
    "## Domanda intelligenza artificiale"
   ]
  },
  {
   "cell_type": "markdown",
   "id": "31f72b3e-3533-4866-bf02-44fea1b7c825",
   "metadata": {},
   "source": [
    "- Limiti delle reti MLP (multilayer Perceptron) ed introduzione delle Reti neurali Convoluzionali. \n",
    "- Architettura di una rete neurale convoluzionale: strati convoluzionali, attivazione non lineare e pooling + parte fully connected.\n",
    "- Loss function per il task della regressione.  Training di una rete. \n",
    "- Cenni sull'algoritmo di backpropagation per il calcolo delle derivate parziale della funzione costo rispetto ai pesi ditutti i layer .\n",
    "- Tecniche di Ottimizzazione: metodo di discesa del gradient batch, metodo del gradiente stocastico (SGD) ,metodo del gradiente stocastico minibatch.\n",
    "                                                                                [7  punti]\n"
   ]
  }
 ],
 "metadata": {
  "kernelspec": {
   "display_name": "Python 3 (ipykernel)",
   "language": "python",
   "name": "python3"
  },
  "language_info": {
   "codemirror_mode": {
    "name": "ipython",
    "version": 3
   },
   "file_extension": ".py",
   "mimetype": "text/x-python",
   "name": "python",
   "nbconvert_exporter": "python",
   "pygments_lexer": "ipython3",
   "version": "3.11.5"
  }
 },
 "nbformat": 4,
 "nbformat_minor": 5
}
