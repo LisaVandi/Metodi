{
 "cells": [
  {
   "attachments": {},
   "cell_type": "markdown",
   "id": "77e97ec2-857d-44c0-8b7f-c9b2c436362e",
   "metadata": {},
   "source": [
    "## Esame di Metodi Numerici 6 Maggio 2024 \n",
    "\n",
    "## Esercizio 1\n",
    "- Si consideri il sistema lineare Ax=b, con A matrice e b termine noto memorizzati nel file ``'test_14_09_2023.mat'``.  Risolvere il sistema confrontando almeno due tra i metodi  visti  per utilizzare per risolvere il sistema lineare con tale matrice dei coefficienti. Confrontare i risultati dei vari metodi, e giustificare i loro comportamento utilizzando i risultati teorici visti a lezione.\n",
    "\n",
    "Per la lettura dei dati procedere nel seguente modo:\n",
    "\n",
    "``from scipy.io import loadmat``\n",
    "\n",
    "``import numpy as np``\n",
    "\n",
    "``dati = loadmat('test_06_05_2024.mat')``\n",
    "\n",
    "``A=dati[\"A\"] ``\n",
    "\n",
    "``A=A.astype(float)``\n",
    "\n",
    "`` b=dati[\"b\"] ``\n",
    "\n",
    "`` b=b.astype(float)``\n",
    "\n",
    "\n",
    "                                       [10 punti]\n",
    "                                         \n"
   ]
  },
  {
   "cell_type": "code",
   "execution_count": 62,
   "id": "c0299e58",
   "metadata": {},
   "outputs": [],
   "source": [
    "from scipy.io import loadmat\n",
    "import numpy as np\n",
    "import numpy.linalg as npl\n",
    "import matplotlib.pyplot as plt\n",
    "import SolveTriangular\n",
    "import scipy.linalg as spl\n",
    "\n",
    "dati = loadmat('test_06_05_2024.mat')\n",
    "A=dati[\"A\"]\n",
    "A=A.astype(float)\n",
    "b=dati[\"b\"] \n",
    "b=b.astype(float)"
   ]
  },
  {
   "cell_type": "code",
   "execution_count": 63,
   "id": "03be5185",
   "metadata": {},
   "outputs": [
    {
     "name": "stdout",
     "output_type": "stream",
     "text": [
      "dimensioni matrice A = 400 x 400\n"
     ]
    },
    {
     "data": {
      "text/plain": [
       "<matplotlib.image.AxesImage at 0x14a702dc810>"
      ]
     },
     "execution_count": 63,
     "metadata": {},
     "output_type": "execute_result"
    },
    {
     "data": {
      "image/png": "[encoded data removed]",
      "text/plain": [
       "<Figure size 640x480 with 1 Axes>"
      ]
     },
     "metadata": {},
     "output_type": "display_data"
    }
   ],
   "source": [
    "# Scelta del metodo in base alla matrice\n",
    "m, n = A.shape\n",
    "print(f'dimensioni matrice A = {m} x {n}')\n",
    "plt.spy(A)"
   ]
  },
  {
   "cell_type": "code",
   "execution_count": 64,
   "id": "8b69c5a3",
   "metadata": {},
   "outputs": [
    {
     "name": "stdout",
     "output_type": "stream",
     "text": [
      "matrice A quadrata e di grande dimensioni\n",
      "matrice A sparsa\n"
     ]
    }
   ],
   "source": [
    "print(\"matrice A quadrata e di grande dimensioni\")\n",
    "# controllo se è sparsa o densa\n",
    "if (np.count_nonzero(A) * 100 / (m*n)) < 33:\n",
    "    print(\"matrice A sparsa\")\n",
    "else: print(\"matrice A densa\")"
   ]
  },
  {
   "cell_type": "code",
   "execution_count": 65,
   "id": "c2881f13",
   "metadata": {},
   "outputs": [
    {
     "name": "stdout",
     "output_type": "stream",
     "text": [
      "matrice A simmetrica\n",
      "matrice A definita positiva\n"
     ]
    }
   ],
   "source": [
    "if np.all(A == A.T): \n",
    "    print(\"matrice A simmetrica\")\n",
    "    if np.all(npl.eigvals(A) > 0): \n",
    "        print(\"matrice A definita positiva\")\n",
    "    else: print(\"matrice A non definita positiva\")\n",
    "else: print(\"matrice A non simmetrica\")"
   ]
  },
  {
   "cell_type": "markdown",
   "id": "4acb5b52",
   "metadata": {},
   "source": [
    "Poiché la matrice è quadrata, di grandi dimensioni e sparsa, scelgo tra i metodi iterativi. In particolare, essendo simmetrica e definita positiva, implemento il metodo steepest descent e conjugate gradient. "
   ]
  },
  {
   "cell_type": "code",
   "execution_count": 66,
   "id": "d653f131",
   "metadata": {},
   "outputs": [],
   "source": [
    "def steepestdescent(A,b,x0,itmax,tol):\n",
    "    n,m=A.shape\n",
    "    if n!=m:\n",
    "        print(\"Matrice non quadrata\")\n",
    "        return [],[]\n",
    "    \n",
    "   # inizializzare le variabili necessarie\n",
    "    x = x0   \n",
    "    r = A@x-b\n",
    "    p = -r \n",
    "    it = 0\n",
    "    nb=np.linalg.norm(b)\n",
    "    errore=np.linalg.norm(r)/nb\n",
    "    vec_sol=[]\n",
    "    vec_sol.append(x)\n",
    "    vet_r=[]\n",
    "    vet_r.append(errore)\n",
    "     \n",
    "# utilizzare il metodo del gradiente per trovare la soluzione\n",
    "    while errore >= tol and it < itmax: \n",
    "        it=it+1\n",
    "        Ap = A @ p       \n",
    "        alpha = -(r.T @ p) / (p.T @ Ap)                 \n",
    "        x = x + alpha * p         \n",
    "        vec_sol.append(x)\n",
    "        r=r+alpha*Ap\n",
    "        errore=np.linalg.norm(r)/nb\n",
    "        vet_r.append(errore)\n",
    "        p = -r\n",
    "     \n",
    "    return x,vet_r,vec_sol,it\n",
    "\n",
    "\n",
    "def conjugate_gradient(A,b,x0,itmax,tol):\n",
    "    n,m=A.shape\n",
    "    if n!=m:\n",
    "        print(\"Matrice non quadrata\")\n",
    "        return [],[]\n",
    "    \n",
    "   # inizializzare le variabili necessarie\n",
    "    x = x0     \n",
    "    r = A@x-b\n",
    "    p = -r\n",
    "    it = 0\n",
    "    nb=np.linalg.norm(b)\n",
    "    errore=np.linalg.norm(r)/nb\n",
    "    vec_sol=[]\n",
    "    vec_sol.append(x0)\n",
    "    vet_r=[]\n",
    "    vet_r.append(errore)\n",
    "# utilizzare il metodo del gradiente coniugato per calcolare la soluzione\n",
    "    while errore >= tol and it< itmax:\n",
    "        it=it+1\n",
    "        Ap = A@p\n",
    "        alpha = -(r.T @ p) / (p.T @ Ap)\n",
    "        x = x + alpha * p\n",
    "        vec_sol.append(x)\n",
    "        rtr_old=r.T@r\n",
    "        r=r+alpha*Ap\n",
    "        gamma = (r.T @ r) / rtr_old\n",
    "        errore=np.linalg.norm(r)/nb\n",
    "        vet_r.append(errore)\n",
    "        p = r + gamma * p\n",
    "   \n",
    "    \n",
    "    return x,vet_r,vec_sol,it"
   ]
  },
  {
   "cell_type": "code",
   "execution_count": 67,
   "id": "2aa92a08",
   "metadata": {},
   "outputs": [
    {
     "name": "stdout",
     "output_type": "stream",
     "text": [
      "Soluzione con steepest_descent x = [[0.99999981 0.99999981 0.99999981 ... 0.99999981 0.99999981 0.99999981]\n",
      " [1.00000012 1.00000012 1.00000012 ... 1.00000012 1.00000012 1.00000012]\n",
      " [1.00000012 1.00000012 1.00000012 ... 1.00000012 1.00000012 1.00000012]\n",
      " ...\n",
      " [1.00000012 1.00000012 1.00000012 ... 1.00000012 1.00000012 1.00000012]\n",
      " [1.00000012 1.00000012 1.00000012 ... 1.00000012 1.00000012 1.00000012]\n",
      " [0.99999981 0.99999981 0.99999981 ... 0.99999981 0.99999981 0.99999981]] in 62 iterazioni\n"
     ]
    }
   ],
   "source": [
    "tol = 1e-6\n",
    "itmax = 400\n",
    "x0 = np.array([0] * n).T\n",
    "x_st, vet_r_st, vec_sol_st, it_st = steepestdescent(A,b,x0,itmax,tol)\n",
    "print(f'Soluzione con steepest_descent x = {x_st} in {it_st} iterazioni')\n"
   ]
  },
  {
   "cell_type": "code",
   "execution_count": 68,
   "id": "a18719b0",
   "metadata": {},
   "outputs": [
    {
     "name": "stdout",
     "output_type": "stream",
     "text": [
      "Soluzione con conjugate_gradient x = [[0.99999998 0.99999998 0.99999998 ... 0.99999998 0.99999998 0.99999998]\n",
      " [1.00000001 1.00000001 1.00000001 ... 1.00000001 1.00000001 1.00000001]\n",
      " [1.00000001 1.00000001 1.00000001 ... 1.00000001 1.00000001 1.00000001]\n",
      " ...\n",
      " [1.00000001 1.00000001 1.00000001 ... 1.00000001 1.00000001 1.00000001]\n",
      " [1.00000001 1.00000001 1.00000001 ... 1.00000001 1.00000001 1.00000001]\n",
      " [0.99999998 0.99999998 0.99999998 ... 0.99999998 0.99999998 0.99999998]] in 24 iterazioni\n"
     ]
    }
   ],
   "source": [
    "x_conj, vet_r_conj, vec_sol_conj, it_conj = conjugate_gradient(A,b,x0,itmax,tol)\n",
    "print(f'Soluzione con conjugate_gradient x = {x_conj} in {it_conj} iterazioni')"
   ]
  },
  {
   "cell_type": "markdown",
   "id": "de5031f5",
   "metadata": {},
   "source": [
    "Si nota che il metodo del gradiente coniugato ottiene la medesima soluzione con un numero di iterazioni molto più basso. Infatti, nel metodo del gradiente coniugato, il vettore direzione è variato di una certa quantità gamma, in maniera tale che le direzioni di discesa siano coniugate rispetto a tutte le precedenti direzioni."
   ]
  },
  {
   "cell_type": "markdown",
   "id": "59c0d44a-0d01-44c1-b47f-9a155608f40b",
   "metadata": {},
   "source": [
    "- Data la matrice \n",
    "$$A=\\left[\n",
    "\\begin{array}{cccc}\n",
    "1 & 2 & 3 & 4\\\\\n",
    "2 & -4 & 6 & 8\\\\\n",
    "-1 & -2 & -3 & -1\\\\\n",
    "5 & 7 & 0 & 1\n",
    "\\end{array}\n",
    "\\right ],$$\n",
    "Richiamare le ipotesi sotto cui esiste la fattorizzazione di Gauss senza pivoting e scrivere un codice per  verificarle.\n",
    "\n",
    "                                                [2 punti]"
   ]
  },
  {
   "cell_type": "markdown",
   "id": "c5d6c062",
   "metadata": {},
   "source": [
    "Per applicare Gauss senza pivotaggio (Gauss semplice), è necessario che: \n",
    "- la matrice sia ben condizionata\n",
    "- la matrice sia non singolare, cioè abbia determinante != 0"
   ]
  },
  {
   "cell_type": "code",
   "execution_count": 69,
   "id": "212cf5a0",
   "metadata": {},
   "outputs": [],
   "source": [
    "def Gauss(A, b): \n",
    "    # Passo 1: Fattorizzazione LU di A\n",
    "    P, L, U = spl.lu(A) \n",
    "\n",
    "    # Passo 2: Risoluzione del sistema Ly = Pb\n",
    "    y,flag=SolveTriangular.Lsolve(L,P@b) \n",
    "    if flag==0: # soluzione trovata con successo\n",
    "        # Passo 3: Risoluzione del sistema Ux = y\n",
    "        x,flag=SolveTriangular.Usolve(U,y) \n",
    "    else:\n",
    "        return None,None\n",
    "    return x,flag"
   ]
  },
  {
   "cell_type": "markdown",
   "id": "30beddff",
   "metadata": {},
   "source": [
    "## Esercizio 2\n",
    "Scrivere uno script che calcoli il polinomio interpolante un insieme di punti $P_i =(x_i, y_i)$ $i = 0, ..., n $ nella forma di Lagrange, $n=5,10,15,18$\n",
    "\n",
    "- nodi $x_i$, punti equidistanti in un intervallo $[a, b]$,\n",
    "- nodi $x_i$, zeri dei polinomi di Chebyshev nell'intervallo $[a, b]$, ossia\n",
    "$$\n",
    "x_i = \\frac{(a + b)}{2}+\\frac{(b-a)}{2} \\, \\cos \\left(\n",
    "\\frac{(2i+1)\\pi}{2(n + 1)}\n",
    "\\right), \\quad  i =0, ..., n \n",
    "$$\n",
    " \n",
    "  e $y_i = f(x_i)$ ottenuti dalla valutazione nei punti $x_i$ della funzione test   $f: \\ [a, b] \\rightarrow {\\mathbb R}$. \n",
    "  - $f(x) = 1/(1+25*x^2)$,  $ \\quad x \\in [-1, 1]$ (funzione di Runge).\n",
    "  \n",
    "                                          [6] punti"
   ]
  },
  {
   "cell_type": "code",
   "execution_count": 70,
   "id": "a990016a",
   "metadata": {},
   "outputs": [],
   "source": [
    "import math"
   ]
  },
  {
   "cell_type": "code",
   "execution_count": 71,
   "id": "1e4a7095",
   "metadata": {},
   "outputs": [],
   "source": [
    "def plagr(xnodi,j):\n",
    "    \"\"\"\n",
    "    Restituisce i coefficienti del j-esimo pol di\n",
    "    Lagrange associato ai punti del vettore xnodi\n",
    "    \"\"\"\n",
    "    xzeri=np.zeros_like(xnodi)\n",
    "    n=xnodi.size\n",
    "    if j==0:\n",
    "       xzeri=xnodi[1:n]\n",
    "    else:\n",
    "       xzeri=np.append(xzeri[0:j], xzeri[j+1, n])\n",
    "\n",
    "    num = np.poly(xzeri) \n",
    "    den = np.polyval(num, xnodi[j])\n",
    "    p=num/den\n",
    "    \n",
    "    return p\n",
    "\n",
    "def InterpL(x, y, xx):\n",
    "     \"\"\"\n",
    "     funzione che determina in un insieme di punti il valore del polinomio\n",
    "     interpolante ottenuto dalla formula di Lagrange.\n",
    "     DATI INPUT\n",
    "        x  vettore con i nodi dell'interpolazione\n",
    "        f  vettore con i valori dei nodi \n",
    "        xx vettore con i punti in cui si vuole calcolare il polinomio\n",
    "     DATI OUTPUT\n",
    "        y vettore contenente i valori assunti dal polinomio interpolante\n",
    "        \"\"\"\n",
    "     n = x.size\n",
    "     m = xx.size\n",
    "     L=np.zeros((m,n))\n",
    "     for j in range(n):\n",
    "        p=plagr(L, j)\n",
    "        L[:,j]= np.polyval(p, xx)   \n",
    "    \n",
    "     return L@y"
   ]
  },
  {
   "cell_type": "code",
   "execution_count": 72,
   "id": "f5823efc",
   "metadata": {},
   "outputs": [],
   "source": [
    "def zeri_chebichev(a, b, n):\n",
    "    membro_1 = (a + b) / 2\n",
    "    membro_2 = (b - a) / 2\n",
    "    x = np.zeros((n+1,))\n",
    "\n",
    "    for i in range(n):\n",
    "        x[i] = membro_1 + membro_2 * np.cos(((2 * i + 1) * math.pi) / (2 * (n + 1)))\n",
    "    return x"
   ]
  },
  {
   "cell_type": "code",
   "execution_count": 73,
   "id": "a8eba0e7",
   "metadata": {},
   "outputs": [],
   "source": [
    "n = 15\n",
    "a = -1\n",
    "b = 1\n",
    "\n",
    "x_eq = np.linspace(a, b, n+1)\n",
    "x_cheb = zeri_chebichev(a, b, n)\n",
    "xx = np.linspace(a, b, 100)\n",
    "\n",
    "f = lambda x: 1/(1+25*x**2)\n",
    "y_eq = f(x_eq)\n",
    "y_cheb = f(x_cheb)\n",
    "y_fun = f(xx)"
   ]
  },
  {
   "cell_type": "markdown",
   "id": "bcbda924-2d3b-4357-bf34-cb936d3a4a87",
   "metadata": {
    "tags": []
   },
   "source": [
    "\n",
    "\n",
    "- Calcolare l'errore di interpolazione $r(x) =  f(x)-pe(x) $,\n",
    "tra la funzione test $f(x)$ e il polinomio di interpolazione $pe(x)$ calcolato a partire da nodi equdisitanti.\n",
    "                                        [1] punto\n",
    "                                        \n",
    "Visualizzare il grafico di $f(x)$ e $pe(x)$, ed il grafico di $|r(x)|$ per ogni valore $n=5,10,15,18$ \n",
    "\n",
    "                                        [1] punto\n",
    "                                        \n",
    "Calcolare l'errore di interpolazione $r(x) =  f(x)-pc(x) $,\n",
    "tra la funzione test $f(x)$ e il polinomio di interpolazione $p(x)$ calcolato a partire da nodi di Chebichev.\n",
    "\n",
    "                                      [1] punto\n",
    "                                            \n",
    "Visualizzare il grafico di $f(x)$ e $pc(x)$, ed il grafico di $|r(x)|$. \n",
    "\n",
    "                                       [1] punto\n",
    "\n",
    "Cosa si osserva? Cosa accade all'aumentare del grado $n$ di $p(x)$? Scrivere la formula dell'errore che si compie quando al posto della funzione che ha generato i dati si considera il polinomio interpolatore di grado n e commentarla.\n",
    "                                         \n",
    "                                         [3 punti]"
   ]
  },
  {
   "cell_type": "code",
   "execution_count": 1,
   "id": "4802e319",
   "metadata": {},
   "outputs": [
    {
     "ename": "NameError",
     "evalue": "name 'InterpL' is not defined",
     "output_type": "error",
     "traceback": [
      "\u001b[1;31m---------------------------------------------------------------------------\u001b[0m",
      "\u001b[1;31mNameError\u001b[0m                                 Traceback (most recent call last)",
      "Cell \u001b[1;32mIn[1], line 5\u001b[0m\n\u001b[0;32m      1\u001b[0m \u001b[38;5;124;03m\"\"\" \u001b[39;00m\n\u001b[0;32m      2\u001b[0m \u001b[38;5;124;03mCalcolare l'errore di interpolazione r(x) =  f(x)-pe(x),\u001b[39;00m\n\u001b[0;32m      3\u001b[0m \u001b[38;5;124;03mtra la funzione test $f(x)$ e il polinomio di interpolazione pe(x) calcolato a partire da nodi equidistanti.\u001b[39;00m\n\u001b[0;32m      4\u001b[0m \u001b[38;5;124;03m\"\"\"\u001b[39;00m\n\u001b[1;32m----> 5\u001b[0m pe \u001b[38;5;241m=\u001b[39m InterpL(x_eq, y_eq, xx)\n\u001b[0;32m      6\u001b[0m r \u001b[38;5;241m=\u001b[39m \u001b[38;5;28;01mlambda\u001b[39;00m x: f(x) \u001b[38;5;241m-\u001b[39m pe(x)\n",
      "\u001b[1;31mNameError\u001b[0m: name 'InterpL' is not defined"
     ]
    }
   ],
   "source": [
    "\"\"\" \n",
    "Calcolare l'errore di interpolazione r(x) =  f(x)-pe(x),\n",
    "tra la funzione test $f(x)$ e il polinomio di interpolazione pe(x) calcolato a partire da nodi equidistanti.\n",
    "\"\"\"\n",
    "pe = InterpL(x_eq, y_eq, xx)\n",
    "r = lambda x: f(x) - pe(x)"
   ]
  },
  {
   "cell_type": "markdown",
   "id": "d4239d5c-a24b-432f-9903-e5d5e67f0669",
   "metadata": {},
   "source": [
    "**Domanda AI**"
   ]
  },
  {
   "cell_type": "markdown",
   "id": "8871d473",
   "metadata": {},
   "source": [
    "1. Descrivere gli elementi caratterizzanti di un MultiLayer Perceptron (MLP). (Com'è fatto un neurone artificiale, a caso servono le funzioni di attivazione, come sono organizzati i neuroni. Varie tipologie di reti MLP)  ed accennare in cosa consiste la fase di forward propagation e la fase di backward propagation. **Punti: 1**\n"
   ]
  },
  {
   "cell_type": "markdown",
   "metadata": {},
   "source": [
    "Un neurone artificiale, detto percettrone, riceve degli input, i0, i1, ..., in, ai quali sono associati dei pesi (w1, w2, ..., wn), tra cui in particolare si ricorda w0, il bias, cioè un peso collegato a un input fittizio con valore sempre pari a 1, che viene utilizzato per tarare il punto di lavoro ottimale del neurone. \n",
    "La funzione di attivazione f determina il comportamento del neurone, cioè il suo output z. Essa simula il comportamento del neurone biologico di attivarsi solo se i segnali in ingresso superano una certa soglia. \n",
    "Un MLP (multilayer perceptron) è costituito da più layer di neuroni: tipicamente si ha 1 input layer, 1 o più hidden layer, e 1 output layer.\n",
    "\n",
    "Nella fase di forward propagation, i dati in input vengono propagati strato per strato attraverso la rete. Per ogni neurone si calcola la funzione di attivazione.\n",
    "Nella fase di backward propagation, si calcolano i gradienti della funzione di perdita rispetto a ciascun peso della rete, utilizzando la chain rule per il calcolo differenziale."
   ]
  },
  {
   "cell_type": "markdown",
   "id": "7ec61b1b",
   "metadata": {},
   "source": [
    "2. Ottimizzazione della loss function per il training di una rete neurale per il task di regressione: Metodo di discesa del gradiente, metodo stocastico del gradiente, metodo del gradiente minibatch.  **Punti 1**  \n",
    " - Non convessità della loss-function - come non rimanere bloccati in un monimo locale? Metodo del gradiente con momentum. **Punti 2**"
   ]
  },
  {
   "cell_type": "markdown",
   "id": "af2b25b6",
   "metadata": {},
   "source": [
    "Al fine di non rimanere bloccati in un punto di minimo locale, è necessario che la loss function sia convessa. Infatti, questo assicura che il punto di minimo trovato con il metodo del gradiente sia globale e non locale. La funzione costo priva di hidden layer è convessa. Qualora si aggiungano hidden layer, si incorre in una maggiore facilità di imbattersi in punti di sella o minimi locali.\n",
    "\n",
    "\n",
    "Il metodo della discesa del gradiente con momentum è stato studiato per accelare la convergenza e aiutare l'algoritmo a ridurre le oscillazioni. \n",
    "w(k+1) = wk + l.r.*vk, dove vk = velocità accumulata al passo precedente, la quale serve pper aumentare le dimensioni degli aggiornamenti quando i gradienti puntano nella stessa direzione, mentre le riduce se i gradienti puntano in senso opposto. "
   ]
  },
  {
   "cell_type": "markdown",
   "id": "b17e4712",
   "metadata": {},
   "source": [
    "3. Learning rate scheduling: step decay, decadimento esponenziale, decadimento dipendente dal tempo. **Punti 1**\n",
    " - Learning rate adattivo: Adagrad, RMSProp, Adadelta, Adam. **Punti 2**\n"
   ]
  },
  {
   "cell_type": "markdown",
   "id": "817419e7",
   "metadata": {},
   "source": [
    "Step decay: riduce il learning rate per ogni epoca di un fattore delta\n",
    "Decadimento esponenziale: varia in base alle iterazioni, seguendo la regola: lr = lr * e**(-kt)\n",
    "Decadimento basato sul tempo: divide il learning rate iniziale in base al numero di iterazioni eseguite. "
   ]
  },
  {
   "cell_type": "markdown",
   "id": "51d79f81",
   "metadata": {},
   "source": [
    "Se il learning rate viene scelto troppo elevato, allora si rischia di non convergere mai alla soluzione del problema. D'altra parte, qualora si scelga un learning rate troppo basso, si giunge alla soluzione del problema in un numero di iterazioni troppo elevate.\n",
    "Dunque, la scelta migliore consiste nell'avere un learning rate dinamico che nelle fasi di ricerca è medio alto, mentre nelle fasi finali è basso.\n",
    "\n",
    "Adagrad = adatta il learning rate ai parametri, eseguendo aggiornamenti grandi ai parametri poco frequenti, e viceversa.In questo modo, il learning rate si adatta alle caratteristiche dei dati e del modello. Tuttavia, si ha l'accumulo di gradienti quadrati, che può portare a un learning rate molto basso. \n",
    "\n",
    "RMSProp = deriva da adagrad, con la differenza che migliora la parte di accumulto del gradiente con una media ponderata esponenziale dei gradienti al quadrato. \n",
    "\n",
    "Adadelta = come RMSProp, mma non richiede di impostare un learning rate iniziale, dato che utilizza la quantità di cambiamento stessa come calibrazione per i cambiamenti successivi. \n",
    "\n",
    "Adam = utilizza RMSProp e il metodo del gradiente con momentum. "
   ]
  }
 ],
 "metadata": {
  "kernelspec": {
   "display_name": "Python 3 (ipykernel)",
   "language": "python",
   "name": "python3"
  },
  "language_info": {
   "codemirror_mode": {
    "name": "ipython",
    "version": 3
   },
   "file_extension": ".py",
   "mimetype": "text/x-python",
   "name": "python",
   "nbconvert_exporter": "python",
   "pygments_lexer": "ipython3",
   "version": "3.11.5"
  }
 },
 "nbformat": 4,
 "nbformat_minor": 5
}
