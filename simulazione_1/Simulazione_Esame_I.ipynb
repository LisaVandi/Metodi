{
 "cells": [
  {
   "cell_type": "markdown",
   "id": "9edf6b43-5c77-43f5-a179-9986fc68abf8",
   "metadata": {},
   "source": [
    "## Simulazione dell'esame di Metodi Numerici\n"
   ]
  },
  {
   "cell_type": "markdown",
   "id": "378dc3b4-702c-4e2f-b388-fc5275db9a75",
   "metadata": {},
   "source": [
    "# Esercizio 1\n",
    "Nel file ``testI.mat`` sono memorizzati la matrice A ed il vettore b. \n",
    "\n",
    " - Verificare che per risolvere il sistema Ax=b sia possibile utilizzare i due metodi di discesa visti a lezione. Richiamare il teorema che  garantisce che risolvere un sistema lineare con specifiche proprietà equivale a trovare il minimo di un opportuni funzionale quadratico.  [**Punti 2**]\n",
    " - implementare entrambi gli algoritmi e dire quante iterazioni sono necessarie per ciascuno di essi  per calcolare la soluzione con una toll=1e-6 e maxit=4000. Visualizzare in un grafico l'errore in scala logaritmica ad ogni iterazione per ciascuno dei due metodi. [**Punti 5**]\n",
    " - Verificare se la matrice è  malcondizionata, dire teoricamente cosa questo implica in termini di velocità di  convergenza alla soluzione di ciascuno dei due metodi, richiamando il risultato teorico visto a lezione. [**Punti 2**]\n",
    "\n",
    " - Costruire la matrice A1, ottenuta a partire da A sommandole una matrice diagonale con elementi sulla\n",
    "      diagonali tutti uguali a 0.05\n",
    "   nel seguente modo:\n",
    "   \n",
    "   A1=A+np.eye(A.shape[0])*0.05\n",
    "   \n",
    "   e termine noto b1, costruito in maniera tale che la soluzione del sistema A1 x1 =b1 sia il vettore formato da tutti 1.  Risolvere il sistema lineare con matrice dei coefficienti A1 e termine noto b1, sia con il metodo del gradiente che con il metodo del gradiente coniugato. Osservare il numero di iterazioni eseguito da ciascun metodo e giustificare i risultati  [**Punti 2**]\n",
    "  \n",
    "   **Totale: Punti 11**\n",
    "\n",
    "Per la lettura dei dati procedere nel seguente modo:\n",
    "\n",
    "``from scipy.io import loadmat``\n",
    "\n",
    "``import numpy as np``\n",
    "\n",
    "``dati = loadmat('testI.mat')``\n",
    "\n",
    "``A=dati[\"A\"] ``\n",
    "\n",
    "``A=A.astype(float)``\n",
    "\n",
    "`` b=dati[\"b\"] ``\n",
    "\n",
    "`` b=b.astype(float)``\n",
    "\n",
    "\n",
    "\n",
    "\n",
    "\n"
   ]
  },
  {
   "cell_type": "code",
   "execution_count": 37,
   "id": "c4f0057a",
   "metadata": {},
   "outputs": [],
   "source": [
    "from scipy.io import loadmat\n",
    "import numpy as np\n",
    "import numpy.linalg as npl\n",
    "\n",
    "dati = loadmat('testI.mat')\n",
    "A=dati[\"A\"]\n",
    "A=A.astype(float)\n",
    "b=dati[\"b\"]\n",
    "b=b.astype(float)"
   ]
  },
  {
   "cell_type": "code",
   "execution_count": 38,
   "id": "3b2f7924",
   "metadata": {},
   "outputs": [
    {
     "name": "stdout",
     "output_type": "stream",
     "text": [
      "Dimensioni matrice: (300, 300)\n",
      "Matrice ben condizionata? False\n",
      "La matrice è simmetrica\n",
      "La matrice è definita positiva\n",
      "La matrice è sparsa? 9.524444444444445 %\n"
     ]
    }
   ],
   "source": [
    "\"\"\"\n",
    "Verificare che per risolvere il sistema Ax=b sia possibile utilizzare \n",
    "i due metodi di discesa visti a lezione. \n",
    "Richiamare il teorema che garantisce che risolvere un sistema lineare con specifiche proprietà \n",
    "equivale a trovare il minimo di un opportuni funzionale quadratico.  [**Punti 2**]\n",
    "\"\"\"\n",
    "\n",
    "# matrice deve essere simmetrica e definita positiva\n",
    "print(f'Dimensioni matrice: {A.shape}')\n",
    "print(f'Matrice ben condizionata? {npl.cond(A) < 100}')\n",
    "if np.all(A == A.T): # .all testa che \n",
    "    print(f'La matrice è simmetrica')\n",
    "    if np.all(npl.eigvals(A)>0):\n",
    "        print(f'La matrice è definita positiva')\n",
    "else:\n",
    "    print(f'La matrice non è adatta ai metodi di discesa')\n",
    "n,m = A.shape\n",
    "print(f'La matrice è sparsa? {(np.count_nonzero(A)*100)/(n*m)} %')"
   ]
  },
  {
   "cell_type": "markdown",
   "id": "d059509b",
   "metadata": {},
   "source": [
    "Il teorema è il seguente: data A matrice quadrata, simmetrica e definita positiva, allora la soluzione del sistema lineare Ax = b coincide con il punto di minimo della funzione quadratica F(x) = 1/2 <Ax, x> - <b, x>. In altre parole, risolveere tale sistema equivale a minimizzare la funzione. \n",
    "La dimostrazione si basa sui concetti di residuo, gradiente e punto di minimo di una funzione convessa (tramitee matrice Hessiana). \n",
    "Il vettore residuo è r = Ax - b- Se x* è soluzione, allora r = Ax* - b = 0.\n",
    "Si calcola il gradiente per cercare il minimo, infatti lo si pone = 0. Risulta che il vettore che annulla il gradiente coincide con la soluzione del sistema lineare.\n",
    "Si verifica che tale punto è di minimo per mezzo della matrice Hessiana. Avendo una funzione quadratica, simmetrica e definita positiva, tale matrice coincide con A. Da ciò, F è convessa, quindi ha un solo punto di minimo (quello trovato)."
   ]
  },
  {
   "cell_type": "code",
   "execution_count": 39,
   "id": "78ff47d0",
   "metadata": {},
   "outputs": [],
   "source": [
    "itmax = 4000\n",
    "tol=1e-6\n",
    "x0=np.array([[0]*n]).T"
   ]
  },
  {
   "cell_type": "code",
   "execution_count": 40,
   "id": "83969ce3",
   "metadata": {},
   "outputs": [],
   "source": [
    "\"\"\"\n",
    "implementare entrambi gli algoritmi e dire quante iterazioni sono necessarie per ciascuno di essi \n",
    "per calcolare la soluzione con una toll=1e-6 e maxit=4000. \n",
    "Visualizzare in un grafico l'errore in scala logaritmica ad ogni iterazione per ciascuno dei due metodi. [**Punti 5**]\n",
    "\"\"\"\n",
    "def steepestdescent(A,b,x0,itmax,tol):\n",
    "    # metodo del gradiente per una matrice simmetrica e definita positiva\n",
    "    n,m=A.shape\n",
    "    if n!=m:\n",
    "        print(\"Matrice non quadrata\")\n",
    "        return [],[]\n",
    "   # inizializzare le variabili necessarie\n",
    "    x = x0\n",
    "    r = A@x-b\n",
    "    p = -r \n",
    "    it = 0\n",
    "    nb=np.linalg.norm(b)\n",
    "    errore=np.linalg.norm(r)/nb\n",
    "    vec_sol=[]\n",
    "    vec_sol.append(x)\n",
    "    vet_r=[]\n",
    "    vet_r.append(errore)\n",
    "     \n",
    "# utilizzare il metodo del gradiente per trovare la soluzione\n",
    "    while errore >= tol and it < itmax:\n",
    "        it=it+1\n",
    "        Ap = A@p \n",
    "        alpha = -(r.T @ p) / (p.T @ Ap)                \n",
    "        x = x + alpha * p\n",
    "        vec_sol.append(x)\n",
    "        r=r+alpha*Ap\n",
    "        errore=np.linalg.norm(r)/nb\n",
    "        vet_r.append(errore)\n",
    "        p = -r        \n",
    "     \n",
    "    return x,vet_r,vec_sol,it\n",
    "\n",
    "\n",
    "def conjugate_gradient(A,b,x0,itmax,tol):\n",
    "    n,m=A.shape\n",
    "    if n!=m:\n",
    "        print(\"Matrice non quadrata\")\n",
    "        return [],[]\n",
    "    \n",
    "    x = x0    \n",
    "    r = A@x-b\n",
    "    p = -r\n",
    "    it = 0\n",
    "    nb=np.linalg.norm(b)\n",
    "    errore=np.linalg.norm(r)/nb\n",
    "    vec_sol=[]\n",
    "    vec_sol.append(x0)\n",
    "    vet_r=[]\n",
    "    vet_r.append(errore)\n",
    "# utilizzare il metodo del gradiente coniugato per calcolare la soluzione\n",
    "    while errore >= tol and it< itmax:\n",
    "        it=it+1\n",
    "        Ap = A@p \n",
    "        alpha = -(r.T @ p) / (p.T @ Ap)\n",
    "        x = x + alpha * p\n",
    "        vec_sol.append(x)\n",
    "        rtr_old=r.T@r\n",
    "        r=r+alpha*Ap\n",
    "        gamma = (r.T @ r) / rtr_old \n",
    "        errore=np.linalg.norm(r)/nb\n",
    "        vet_r.append(errore)\n",
    "        p = -r + gamma * p\n",
    "   \n",
    "    \n",
    "    return x,vet_r,vec_sol,it"
   ]
  },
  {
   "cell_type": "code",
   "execution_count": 41,
   "id": "4f48c5eb",
   "metadata": {},
   "outputs": [
    {
     "name": "stdout",
     "output_type": "stream",
     "text": [
      "iterazioni steepest descent = 4000, iterazioni gradiente congiunto = 326\n"
     ]
    }
   ],
   "source": [
    "x_steepest, vet_r_steepest, vec_sol_steepest ,it_steepest = steepestdescent(A, b, x0, itmax, tol)\n",
    "x_congiunto, vet_r_congiunto, vec_sol_congiunto, it_congiunto = conjugate_gradient(A, b, x0, itmax, tol)\n",
    "print(f'iterazioni steepest descent = {it_steepest}, iterazioni gradiente congiunto = {it_congiunto}')"
   ]
  },
  {
   "cell_type": "code",
   "execution_count": 42,
   "id": "ccc9b967",
   "metadata": {},
   "outputs": [
    {
     "data": {
      "image/png": "[encoded data removed]",
      "text/plain": [
       "<Figure size 640x480 with 1 Axes>"
      ]
     },
     "metadata": {},
     "output_type": "display_data"
    }
   ],
   "source": [
    "# Visualizzo l'errore in scala logaritmica\n",
    "import matplotlib.pyplot as plt\n",
    "plt.semilogy(vet_r_steepest, '-b', vet_r_congiunto, '-r')\n",
    "plt.show()"
   ]
  },
  {
   "cell_type": "code",
   "execution_count": 43,
   "id": "3b10bc43",
   "metadata": {},
   "outputs": [
    {
     "name": "stdout",
     "output_type": "stream",
     "text": [
      "Matrice mal condizionata? True\n"
     ]
    }
   ],
   "source": [
    "\"\"\"\n",
    "Verificare se la matrice è malcondizionata, dire teoricamente cosa questo implica in termini di velocità di convergenza alla soluzione di ciascuno dei due metodi,\n",
    "richiamando il risultato teorico visto a lezione. [**Punti 2**]\n",
    "\"\"\"\n",
    "\n",
    "print(f'Matrice mal condizionata? {npl.cond(A) > 100}')"
   ]
  },
  {
   "cell_type": "markdown",
   "id": "e96a1c76",
   "metadata": {},
   "source": [
    "Essendo i metodi di discesa metodi iterativi, la velocità di convergenza dipende dagli autovalori. Se la matrice è mal condizionata, gli autovalori sono distribuiti in maniera tale da rallentare la convergenza. "
   ]
  },
  {
   "cell_type": "code",
   "execution_count": 44,
   "id": "4c0cba07",
   "metadata": {},
   "outputs": [
    {
     "name": "stdout",
     "output_type": "stream",
     "text": [
      "iterazioni steepest descent = 166, iterazioni conjugate gradient = 37\n",
      "A1 è una matrice ben condizionata? True\n"
     ]
    }
   ],
   "source": [
    "\"\"\" \n",
    "Costruire la matrice A1, ottenuta a partire da A sommandole una matrice diagonale con \n",
    "elementi sulla diagonali tutti uguali a 0.05, nel seguente modo:\n",
    "   \n",
    "   A1=A+np.eye(A.shape[0])*0.05\n",
    "   \n",
    "e termine noto b1, costruito in maniera tale che la soluzione del sistema A1 x1 = b1 sia il vettore formato da tutti 1.\n",
    "Risolvere il sistema lineare con matrice dei coefficienti A1 e termine noto b1, sia con il metodo del gradiente che con il metodo del gradiente coniugato. \n",
    "Osservare il numero di iterazioni eseguito da ciascun metodo e giustificare i risultati  [**Punti 2**]\n",
    "\"\"\"\n",
    "A1 = A + np.eye(A.shape[0])*0.05\n",
    "b1 = np.sum(A1,axis=1) # axis = 1: sommo le righe\n",
    "x1_st, vet_r_st, vet_sol_st, it_st = steepestdescent(A1, b1, x0, itmax, tol)\n",
    "x1_con, vet_r_con, vec_sol_con, it_con = conjugate_gradient(A1, b1, x0, itmax, tol)\n",
    "print(f'iterazioni steepest descent = {it_st}, iterazioni conjugate gradient = {it_con}')\n",
    "print(f'A1 è una matrice ben condizionata? {npl.cond(A1) < 100}')"
   ]
  },
  {
   "cell_type": "markdown",
   "id": "b5d402eb",
   "metadata": {},
   "source": [
    "La matrice A1 è ben condizionata, quindi la velocità di convergenza è maggiore. Di conseguenza, il numero di iterazioni è nettamente inferiore. "
   ]
  },
  {
   "cell_type": "markdown",
   "id": "7f29d3fc-3800-4a2e-93a1-9c31f878c266",
   "metadata": {},
   "source": [
    "## Esercizio 2 ##\n",
    "\n",
    "Siano assegnati i numpy array\n",
    "\n",
    "x =[1.0,1.2,1.4,1.6,1.8,2.0,2.2,2.4,2.6,2.8,3.0] \n",
    "\n",
    "y =[1.18,1.26,1.23,1.37,1.37,1.45,1.42,1.46,1.53,1.59,1.59] \n",
    "                                                               \n",
    "contenenti rispettivamente le ascisse e le ordinate di 11 punti nel piano.                                                          "
   ]
  },
  {
   "cell_type": "markdown",
   "id": "2fa94727-34cb-4782-b764-c56b7e95f321",
   "metadata": {},
   "source": [
    "Scrivere lo script python in cui:"
   ]
  },
  {
   "cell_type": "markdown",
   "id": "30cd6520-ed15-4c05-bf8c-1261c002b60f",
   "metadata": {},
   "source": [
    "- si calcola il polinomio di approssimazione ai minimi quadrati di grado 1 dei punti assegnati, sviluppando le functions necessarie. e lo si valuti su 200 punti equidistanti nell'intervallo [1,3]  [**Punti: 4**]"
   ]
  },
  {
   "cell_type": "markdown",
   "id": "148b9058-2505-4f5e-97c8-6db9a372d025",
   "metadata": {},
   "source": [
    "- si calcola il polinomio di interpolazione dei punti assegnati sviluppando le functions necessarie e lo si valuti su 200 punti equidistanti nell'intervallo [1,3]  [**Punti: 4**]"
   ]
  },
  {
   "cell_type": "markdown",
   "id": "ccbf2e51-4085-4cfb-a411-e04d142ff647",
   "metadata": {},
   "source": [
    "- Si modifichino le ordinate dei punti assegnati, facendo uso della formula   $\\hat{y_i}=2*x_i+1$, $i=1,...,11$, e si ricalcoli il polinomio interpolante ed il polinomio di approssimazione di grado 1, a partire dalle coppie $(x_i,\\hat{y_i})$, $i=1,11$   [**Punti: 1**]"
   ]
  },
  {
   "cell_type": "markdown",
   "id": "6758a777-c7c6-4459-bdc7-8e6ec235ca98",
   "metadata": {},
   "source": [
    "- Si visualizzi in un grafico il polinomio interpolante, il polinomio di approssimazione di grado 1 ed i punti$(x_i,y_i)$, i=1,11 ed in un altro grafico il polinomio interpolante, il polinomio di approssimazione di grado 1 ed i $(x_i,\\hat{y_i})$, $i=1,11$  [**Punti:1**]"
   ]
  },
  {
   "cell_type": "markdown",
   "id": "a77ba739-c5b7-4f04-8f37-30f1584c2e90",
   "metadata": {},
   "source": [
    "- Si fornisca una spiegazione teorica dei risultati ottenuti\n",
    "  [**Punti: 4**]"
   ]
  },
  {
   "cell_type": "markdown",
   "id": "a37c8888-3dfe-4ea5-a93b-e0adab565e1b",
   "metadata": {},
   "source": [
    "                                                                        Totale 14 punti"
   ]
  },
  {
   "cell_type": "markdown",
   "id": "911860d3-45d8-45fc-99f2-bf79c64f1a80",
   "metadata": {},
   "source": [
    "## Domanda intelligenza artificiale"
   ]
  },
  {
   "cell_type": "markdown",
   "id": "31f72b3e-3533-4866-bf02-44fea1b7c825",
   "metadata": {},
   "source": [
    "- Importanza del learning rate nell'allenamento di una rete neurale \n",
    "[**Punti: 1**]\n",
    "- Illustra l'algoritmo di backpropagation per il calcolo delle derivate parziale della funzione costo rispetto ai pesi di tutti i layer, nel caso di una MLP con 1 nodo di input, 3 layer nascosti formati da un solo nodo, ed 1 nodo di output. [**Punti: 4**] \n",
    " \n",
    "- Tecniche di Ottimizzazione: metodo di discesa del gradient batch, metodo del gradiente stocastico (SGD) ,metodo del gradiente stocastico minibatch. [**Punti: 2**]\n",
    "\n",
    "\n",
    "    [**Totale: punti 7**]\n"
   ]
  },
  {
   "cell_type": "code",
   "execution_count": null,
   "id": "b1093f4a-2764-405d-8bdb-3867f47d9097",
   "metadata": {},
   "outputs": [],
   "source": []
  }
 ],
 "metadata": {
  "kernelspec": {
   "display_name": "Python 3 (ipykernel)",
   "language": "python",
   "name": "python3"
  },
  "language_info": {
   "codemirror_mode": {
    "name": "ipython",
    "version": 3
   },
   "file_extension": ".py",
   "mimetype": "text/x-python",
   "name": "python",
   "nbconvert_exporter": "python",
   "pygments_lexer": "ipython3",
   "version": "3.11.5"
  }
 },
 "nbformat": 4,
 "nbformat_minor": 5
}
