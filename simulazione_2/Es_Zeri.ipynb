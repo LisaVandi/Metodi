{
 "cells": [
  {
   "cell_type": "markdown",
   "id": "004b0103-bd48-49d2-b8f3-05e5d5502207",
   "metadata": {},
   "source": [
    "## Esercizio 1"
   ]
  },
  {
   "cell_type": "markdown",
   "id": "25a961e6-278c-4723-a1b9-83467e05aceb",
   "metadata": {},
   "source": [
    "Si consideri il polinomio $$L(x)=(1/2) (5x^3-3x)$$ $x \\in [-1,1]$"
   ]
  },
  {
   "cell_type": "markdown",
   "id": "60aa1e63-c68e-4d29-92c5-7a73cdc8e0b2",
   "metadata": {},
   "source": [
    "Si visualizzi il grafico del polinomio in [-1,1]"
   ]
  },
  {
   "cell_type": "markdown",
   "id": "7eec16a7-922b-41ab-8b6b-639681e70fad",
   "metadata": {},
   "source": [
    "- Si implementi il metodo di Newton per la determinazione degli zeri di un'equazione non lineare [**Punti 4**]"
   ]
  },
  {
   "cell_type": "code",
   "execution_count": 54,
   "id": "ce51f3ae",
   "metadata": {},
   "outputs": [],
   "source": [
    "import numpy as np\n",
    "import math\n",
    "import matplotlib.pyplot as plt\n",
    "import sympy as sym"
   ]
  },
  {
   "cell_type": "code",
   "execution_count": 55,
   "id": "7038d9aa",
   "metadata": {},
   "outputs": [
    {
     "data": {
      "text/plain": [
       "[<matplotlib.lines.Line2D at 0x1d01e3c9d50>]"
      ]
     },
     "execution_count": 55,
     "metadata": {},
     "output_type": "execute_result"
    },
    {
     "data": {
      "image/png": "[encoded data removed]",
      "text/plain": [
       "<Figure size 640x480 with 1 Axes>"
      ]
     },
     "metadata": {},
     "output_type": "display_data"
    }
   ],
   "source": [
    "xx = np.linspace(-1, 1, 100)\n",
    "Lx = lambda x: (1/2) * (5*x**3 - 3*x)\n",
    "yy = Lx(xx)\n",
    "\n",
    "tolx = 1e-6\n",
    "tolf = 1e-6\n",
    "maxit = 400\n",
    "\n",
    "plt.plot(xx, yy)"
   ]
  },
  {
   "cell_type": "code",
   "execution_count": 56,
   "id": "b7d781d7",
   "metadata": {},
   "outputs": [],
   "source": [
    "def newton(fname,fpname,x0,tolx,tolf,nmax):\n",
    "        xk=[]\n",
    "        fx0 = fname(x0)\n",
    "        if abs(fpname(x0)) <= np.spacing(1): #to do\n",
    "            print(\" derivata prima nulla in x0\")\n",
    "            return None, None,None\n",
    "        \n",
    "        d = fx0 / fpname(x0)\n",
    "        x1 = x0 - d        \n",
    "        fx1 = fname(x1)\n",
    "        xk.append(x1)\n",
    "        it = 1\n",
    "        \n",
    "        while abs(d) >= tolx * abs(x1) and abs(fx1) >= tolf and it < nmax: \n",
    "           x0 = x1\n",
    "           fx0 = fname(x0)\n",
    "           if abs(fpname(x0)) <= np.spacing(1): #Se la derivata prima e' più piccola della precisione di macchina stop\n",
    "                print(\" derivata prima nulla in x0\")\n",
    "                return None, None,None\n",
    "           d = fx0 / fpname(x0)\n",
    "           x1 = x0 - d\n",
    "           fx1=fname(x1)\n",
    "           it=it+1\n",
    "         \n",
    "           xk.append(x1)\n",
    "          \n",
    "        if it==nmax:\n",
    "            print('raggiunto massimo numero di iterazioni \\n')\n",
    "            \n",
    "        return x1,it,xk"
   ]
  },
  {
   "cell_type": "markdown",
   "id": "4495e605-8592-466c-9bf0-625ecc4921cc",
   "metadata": {},
   "source": [
    "- Si implementi il metodo di Bisezione per la determinazione degli zeri di un'equazione non lineare [**Punti 4**]"
   ]
  },
  {
   "cell_type": "code",
   "execution_count": 57,
   "id": "8a6c1313",
   "metadata": {},
   "outputs": [],
   "source": [
    "def sign(x):\n",
    "    return math.copysign(1, x)"
   ]
  },
  {
   "cell_type": "code",
   "execution_count": 58,
   "id": "5ea0b470",
   "metadata": {},
   "outputs": [],
   "source": [
    "def metodo_bisezione(fname, a, b, tolx,tolf):\n",
    " fa=fname(a)\n",
    " fb=fname(b)\n",
    " if sign(fa) * sign(fb) >= 0:\n",
    "     print(\"Non è possibile applicare il metodo di bisezione \\n\")\n",
    "     return None, None,None\n",
    "\n",
    " it = 0\n",
    " v_xk = []\n",
    " maxit = math.ceil(math.log((b - a) / tolx) / math.log(2))-1\n",
    " \n",
    " while it < maxit and abs(b - a) >= tolx:\n",
    "    xk = a + (b - a) / 2\n",
    "    v_xk.append(xk)\n",
    "    it += 1\n",
    "    fxk=fname(xk)\n",
    "    if fxk==0:\n",
    "      return xk, it, v_xk\n",
    "\n",
    "    if sign(fa)*sign(fxk)>0:   \n",
    "      a = xk\n",
    "      fa = fxk\n",
    "    elif sign(fxk)*sign(fb)>0:    \n",
    "      b = xk\n",
    "      fb = fxk\n",
    " \n",
    " return xk, it, v_xk"
   ]
  },
  {
   "cell_type": "markdown",
   "id": "7a4eb352-abd8-4ae8-90c9-2a82612a4213",
   "metadata": {},
   "source": [
    "- Si utilizzi il metodo di Newton con iterato iniziale $x_0=1$ per determinare lo zero $x^*$ piu' vicino ad 1. [**Punti 2**]"
   ]
  },
  {
   "cell_type": "code",
   "execution_count": 59,
   "id": "9a7cf896",
   "metadata": {},
   "outputs": [
    {
     "name": "stdout",
     "output_type": "stream",
     "text": [
      "x*_newton più vicino a 1 = 0.7745966765363306, ottenuta in 4 iterazioni\n"
     ]
    }
   ],
   "source": [
    "x0 = 1\n",
    "# derivata di Lx\n",
    "Lp = lambda x: (15/2 * x**2 - 3/2)\n",
    "\n",
    "x_newton, it_newton, xk_newton = newton(Lx, Lp, x0,tolx,tolf, maxit)\n",
    "print(f'x*_newton più vicino a 1 = {x_newton}, ottenuta in {it_newton} iterazioni')"
   ]
  },
  {
   "cell_type": "markdown",
   "id": "4d0df9dd-b119-4dfd-94b6-991eb1ec0943",
   "metadata": {},
   "source": [
    "Si consideri la funzione $q(x)=L(x)/(x-x^*)$ dove $x^*$ è lo zero calcolato nel punto precedente. Si applichi il metodo di Newton con iterato iniziale $x_0=-0.5$ per calcolare uno zero della funzione $q(x)$  e si verifichi che è anche zero di $L(x)$  [**Punti 2**]"
   ]
  },
  {
   "cell_type": "code",
   "execution_count": 60,
   "id": "b7b73550",
   "metadata": {},
   "outputs": [
    {
     "name": "stdout",
     "output_type": "stream",
     "text": [
      "x che risolve q(x) = -0.7745966728746391, ottenuta in 5 iterazioni\n"
     ]
    }
   ],
   "source": [
    "from sympy import lambdify\n",
    "\n",
    "qx = lambda x: Lx(x) / (x - x_newton)\n",
    "x = sym.symbols('x')\n",
    "\n",
    "q1 =  (5*x**3-3*x)/((x-x_newton)*2)\n",
    "qx_derivata = sym.diff(q1, x, 1) # derivata di q\n",
    "qx_derivata_lambda = lambdify(x, qx_derivata, np)\n",
    "\n",
    "x0_q = -0.5 \n",
    "\n",
    "qx_newton, q_it_newton, q_xk_newton = newton(qx, qx_derivata_lambda, x0_q, tolx, tolf, maxit)\n",
    "print(f'x che risolve q(x) = {qx_newton}, ottenuta in {q_it_newton} iterazioni')"
   ]
  },
  {
   "cell_type": "markdown",
   "id": "fd4a767b-5051-4a7d-9ab1-2f99864025e8",
   "metadata": {},
   "source": [
    "Si applichi il metodo di bisezione alle funzioni $q(x)$ ed $L(x)$ definite in [-1,1] e si fornisca una spiegazione teorica dei risultati ottenuti  [**Punti 2**]"
   ]
  },
  {
   "cell_type": "code",
   "execution_count": 65,
   "id": "52b736d2",
   "metadata": {},
   "outputs": [
    {
     "name": "stdout",
     "output_type": "stream",
     "text": [
      "x_L_bisezione = 0.0, ottenuta in 1 iterazioni\n",
      "Non è possibile applicare il metodo di bisezione \n",
      "\n",
      "x_q_bisezione = None, ottenuta in None iterazioni\n"
     ]
    }
   ],
   "source": [
    "xx = np.linspace(-1, 1, 100)\n",
    "x_L_bisezione, it_L_bisezione, v_xk_L_bisezione = metodo_bisezione(Lx, -1, 1, tolx, tolf)\n",
    "print(f'x_L_bisezione = {x_L_bisezione}, ottenuta in {it_L_bisezione} iterazioni')\n",
    "x_q_bisezione, it_q_bisezione, v_xk_q_bisezione = metodo_bisezione(qx, -1, 1, tolx, tolf)\n",
    "print(f'x_q_bisezione = {x_q_bisezione}, ottenuta in {it_q_bisezione} iterazioni')"
   ]
  },
  {
   "cell_type": "markdown",
   "id": "e0389ba3",
   "metadata": {},
   "source": [
    "Il metodo di bisezione non è applicabile per Q, perché la soluzione di L(x) è 0, quindi si dovrebbe dividere per 0"
   ]
  },
  {
   "cell_type": "markdown",
   "id": "e92a6695-bf91-41fb-868f-5ffde2bacf7a",
   "metadata": {},
   "source": [
    "                                                                                                                Punti [14]"
   ]
  }
 ],
 "metadata": {
  "kernelspec": {
   "display_name": "Python 3 (ipykernel)",
   "language": "python",
   "name": "python3"
  },
  "language_info": {
   "codemirror_mode": {
    "name": "ipython",
    "version": 3
   },
   "file_extension": ".py",
   "mimetype": "text/x-python",
   "name": "python",
   "nbconvert_exporter": "python",
   "pygments_lexer": "ipython3",
   "version": "3.11.5"
  }
 },
 "nbformat": 4,
 "nbformat_minor": 5
}
