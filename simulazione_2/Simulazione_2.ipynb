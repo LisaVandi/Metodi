{
 "cells": [
  {
   "cell_type": "markdown",
   "metadata": {},
   "source": [
    "Nel file ``Test_I.mat`` sono memorizzate le matrici A1, A2 ed A3 ed i vettori b1,b2,b3. "
   ]
  },
  {
   "cell_type": "code",
   "execution_count": 100,
   "metadata": {},
   "outputs": [],
   "source": [
    "import numpy as np\n",
    "import numpy.linalg as npl\n",
    "import scipy as sp\n",
    "import scipy.linalg as spl"
   ]
  },
  {
   "cell_type": "code",
   "execution_count": 101,
   "metadata": {},
   "outputs": [],
   "source": [
    "from scipy.io import loadmat\n",
    "import numpy as np\n",
    "import scipy.linalg as spl\n",
    "import SolveTriangular\n",
    "\n",
    "dati = loadmat('Test_II.mat')\n",
    "A1=dati[\"A1\"]\n",
    "A1=A1.astype(float)\n",
    "b1=dati[\"b1\"]\n",
    "b1=b1.astype(float)\n",
    "A2=dati[\"A2\"]\n",
    "A2=A2.astype(float)\n",
    "b2=dati[\"b2\"]\n",
    "b2=b2.astype(float)\n",
    "A3=dati[\"A3\"]\n",
    "A3=A3.astype(float)\n",
    "b3=dati[\"b3\"]\n",
    "b3=b3.astype(float)"
   ]
  },
  {
   "cell_type": "markdown",
   "metadata": {},
   "source": [
    "Risolvere i 3 sistemi lineari aventi matrice dei coefficienti A1 e termine noto b1, matrice dei coefficienti A2 e termine noto b2, matrice dei coefficienti A3 e terimine noto b3  utilizzando il metodo più adatto per ciascuno di essi e  commentare i risultati ottenuti  giustificandoli alla luce della teoria.\n",
    "\n",
    "                                                                                            punti 12"
   ]
  },
  {
   "cell_type": "code",
   "execution_count": 102,
   "metadata": {},
   "outputs": [
    {
     "name": "stdout",
     "output_type": "stream",
     "text": [
      "Dimensioni matrice A1 = (10, 10)\n",
      "% di elementi diversi da 0 = 100.0\n",
      "A1 è simmetrica\n",
      "A1 non è definita positiva\n"
     ]
    }
   ],
   "source": [
    "\"\"\" \n",
    "Sistemi lineari risolvibili con metodi diretti o iterativi.\n",
    "Se matrice piccola e densa => diretti\n",
    "Se grande e sparsa => iterativi\n",
    "\"\"\"\n",
    "print(f'Dimensioni matrice A1 = {A1.shape}') # matrice piccola\n",
    "m,n = A1.shape\n",
    "print(f'% di elementi diversi da 0 = {np.count_nonzero(A1)*100 / (m * n)}') # matrice densa\n",
    "# Verifico se è simmetrica e definita positiva per applicare LU (Gauss)\n",
    "if np.all(A1.T == A1):\n",
    "    print(\"A1 è simmetrica\")\n",
    "    if np.all(np.linalg.eigvals(A1) > 0): \n",
    "        print(\"A1 è definita positiva\")\n",
    "    else: print(\"A1 non è definita positiva\")\n",
    "else: print(\"A1 non è simmetrica\")"
   ]
  },
  {
   "cell_type": "code",
   "execution_count": 103,
   "metadata": {},
   "outputs": [
    {
     "name": "stdout",
     "output_type": "stream",
     "text": [
      "[[1.]\n",
      " [1.]\n",
      " [1.]\n",
      " [1.]\n",
      " [1.]\n",
      " [1.]\n",
      " [1.]\n",
      " [1.]\n",
      " [1.]\n",
      " [1.]]\n"
     ]
    }
   ],
   "source": [
    "# A quadrata e simmetrica => fattorizzazione LU\n",
    "P, L, U = spl.lu(A1)\n",
    "P = P.T\n",
    "y, flag = SolveTriangular.Lsolve(L, P @ b1)\n",
    "x,flag=SolveTriangular.Usolve(U,y) \n",
    "print(x)"
   ]
  },
  {
   "cell_type": "code",
   "execution_count": 104,
   "metadata": {},
   "outputs": [
    {
     "name": "stdout",
     "output_type": "stream",
     "text": [
      "Dimensioni matrice A2 = (25, 10)\n",
      "% di elementi diversi da 0 = 100.0\n",
      "A2 non è simmetrica\n"
     ]
    },
    {
     "name": "stderr",
     "output_type": "stream",
     "text": [
      "C:\\Users\\lisav\\AppData\\Local\\Temp\\ipykernel_22860\\399812462.py:5: DeprecationWarning: elementwise comparison failed; this will raise an error in the future.\n",
      "  if np.all(A2 == A2.T):\n"
     ]
    }
   ],
   "source": [
    "print(f'Dimensioni matrice A2 = {A2.shape}')\n",
    "m,n = A2.shape\n",
    "print(f'% di elementi diversi da 0 = {np.count_nonzero(A2)*100 / (m * n)}')\n",
    "# Verifico se è simmetrica e definita positiva per applicare LU (Gauss)\n",
    "if np.all(A2 == A2.T):\n",
    "    print(\"A2 è simmetrica\")\n",
    "    if np.all(np.linalg.eigvals(A2) > 0): \n",
    "        print(\"A2 è definita positiva\")\n",
    "    else: print(\"A2 non è definita positiva\")\n",
    "else: print(\"A2 non è simmetrica\")"
   ]
  },
  {
   "cell_type": "code",
   "execution_count": 105,
   "metadata": {},
   "outputs": [],
   "source": [
    "# il sistema è sovradeterminato\n",
    "# la matrice è rettangolare quindi uso QRLS\n",
    "def qrLS(A,b):\n",
    "    n=A.shape[1]  # numero di colonne di A\n",
    "    Q,R = spl.qr(A)\n",
    "    h = Q.T @ b\n",
    "    x,flag=SolveTriangular.Usolve(R[0:n, 0:n], h[0:n])\n",
    "    residuo=np.linalg.norm(h[n:])**2\n",
    "    return x,residuo"
   ]
  },
  {
   "cell_type": "code",
   "execution_count": 106,
   "metadata": {},
   "outputs": [
    {
     "name": "stdout",
     "output_type": "stream",
     "text": [
      "soluzione sistema A2 x = b2 è [[1.]\n",
      " [1.]\n",
      " [1.]\n",
      " [1.]\n",
      " [1.]\n",
      " [1.]\n",
      " [1.]\n",
      " [1.]\n",
      " [1.]\n",
      " [1.]]\n"
     ]
    }
   ],
   "source": [
    "x2, residuo2 = qrLS(A2, b2)\n",
    "print(f'soluzione sistema A2 x = b2 è {x2}')"
   ]
  },
  {
   "cell_type": "code",
   "execution_count": 107,
   "metadata": {},
   "outputs": [
    {
     "name": "stdout",
     "output_type": "stream",
     "text": [
      "Dimensioni matrice A3 = (225, 225)\n",
      "% di elementi diversi da 0 = 2.1037037037037036\n",
      "A3 è simmetrica\n",
      "A3 è definita positiva\n"
     ]
    }
   ],
   "source": [
    "print(f'Dimensioni matrice A3 = {A3.shape}')\n",
    "m,n = A3.shape\n",
    "print(f'% di elementi diversi da 0 = {np.count_nonzero(A3)*100 / (m * n)}') \n",
    "# Verifico se è simmetrica e definita positiva per applicare LU (Gauss)\n",
    "if np.all(A3.T == A3):\n",
    "    print(\"A3 è simmetrica\")\n",
    "    if np.all(np.linalg.eigvals(A3) > 0): \n",
    "        print(\"A3 è definita positiva\")\n",
    "    else: print(\"A3 non è definita positiva\")\n",
    "else: print(\"A3 non è simmetrica\")"
   ]
  },
  {
   "cell_type": "code",
   "execution_count": 108,
   "metadata": {},
   "outputs": [],
   "source": [
    "# simmetrica e definita positiva => Cholesky. Si basa sul teorema secondo cui \"sia A una matice di ordine n simmetrica e definita positiva,\n",
    "# allora esiste una matrice triangolare inferiore L con elementi diagonali positivi tale che A = L @ L.T\" \n",
    "\n",
    "def Cholesky(A, b): \n",
    "    L = npl.cholesky(A)\n",
    "    y, flag = SolveTriangular.Lsolve(L, b)\n",
    "    if flag == 0: \n",
    "        x, flag = SolveTriangular.Usolve(L.T, y)\n",
    "    else: \n",
    "        print(\"metodo non applicabile\")\n",
    "        return None, None\n",
    "    return x, flag"
   ]
  },
  {
   "cell_type": "code",
   "execution_count": 109,
   "metadata": {},
   "outputs": [
    {
     "name": "stdout",
     "output_type": "stream",
     "text": [
      "soluzione x3 di A3x=b3 = [[1.]\n",
      " [1.]\n",
      " [1.]\n",
      " [1.]\n",
      " [1.]\n",
      " [1.]\n",
      " [1.]\n",
      " [1.]\n",
      " [1.]\n",
      " [1.]\n",
      " [1.]\n",
      " [1.]\n",
      " [1.]\n",
      " [1.]\n",
      " [1.]\n",
      " [1.]\n",
      " [1.]\n",
      " [1.]\n",
      " [1.]\n",
      " [1.]\n",
      " [1.]\n",
      " [1.]\n",
      " [1.]\n",
      " [1.]\n",
      " [1.]\n",
      " [1.]\n",
      " [1.]\n",
      " [1.]\n",
      " [1.]\n",
      " [1.]\n",
      " [1.]\n",
      " [1.]\n",
      " [1.]\n",
      " [1.]\n",
      " [1.]\n",
      " [1.]\n",
      " [1.]\n",
      " [1.]\n",
      " [1.]\n",
      " [1.]\n",
      " [1.]\n",
      " [1.]\n",
      " [1.]\n",
      " [1.]\n",
      " [1.]\n",
      " [1.]\n",
      " [1.]\n",
      " [1.]\n",
      " [1.]\n",
      " [1.]\n",
      " [1.]\n",
      " [1.]\n",
      " [1.]\n",
      " [1.]\n",
      " [1.]\n",
      " [1.]\n",
      " [1.]\n",
      " [1.]\n",
      " [1.]\n",
      " [1.]\n",
      " [1.]\n",
      " [1.]\n",
      " [1.]\n",
      " [1.]\n",
      " [1.]\n",
      " [1.]\n",
      " [1.]\n",
      " [1.]\n",
      " [1.]\n",
      " [1.]\n",
      " [1.]\n",
      " [1.]\n",
      " [1.]\n",
      " [1.]\n",
      " [1.]\n",
      " [1.]\n",
      " [1.]\n",
      " [1.]\n",
      " [1.]\n",
      " [1.]\n",
      " [1.]\n",
      " [1.]\n",
      " [1.]\n",
      " [1.]\n",
      " [1.]\n",
      " [1.]\n",
      " [1.]\n",
      " [1.]\n",
      " [1.]\n",
      " [1.]\n",
      " [1.]\n",
      " [1.]\n",
      " [1.]\n",
      " [1.]\n",
      " [1.]\n",
      " [1.]\n",
      " [1.]\n",
      " [1.]\n",
      " [1.]\n",
      " [1.]\n",
      " [1.]\n",
      " [1.]\n",
      " [1.]\n",
      " [1.]\n",
      " [1.]\n",
      " [1.]\n",
      " [1.]\n",
      " [1.]\n",
      " [1.]\n",
      " [1.]\n",
      " [1.]\n",
      " [1.]\n",
      " [1.]\n",
      " [1.]\n",
      " [1.]\n",
      " [1.]\n",
      " [1.]\n",
      " [1.]\n",
      " [1.]\n",
      " [1.]\n",
      " [1.]\n",
      " [1.]\n",
      " [1.]\n",
      " [1.]\n",
      " [1.]\n",
      " [1.]\n",
      " [1.]\n",
      " [1.]\n",
      " [1.]\n",
      " [1.]\n",
      " [1.]\n",
      " [1.]\n",
      " [1.]\n",
      " [1.]\n",
      " [1.]\n",
      " [1.]\n",
      " [1.]\n",
      " [1.]\n",
      " [1.]\n",
      " [1.]\n",
      " [1.]\n",
      " [1.]\n",
      " [1.]\n",
      " [1.]\n",
      " [1.]\n",
      " [1.]\n",
      " [1.]\n",
      " [1.]\n",
      " [1.]\n",
      " [1.]\n",
      " [1.]\n",
      " [1.]\n",
      " [1.]\n",
      " [1.]\n",
      " [1.]\n",
      " [1.]\n",
      " [1.]\n",
      " [1.]\n",
      " [1.]\n",
      " [1.]\n",
      " [1.]\n",
      " [1.]\n",
      " [1.]\n",
      " [1.]\n",
      " [1.]\n",
      " [1.]\n",
      " [1.]\n",
      " [1.]\n",
      " [1.]\n",
      " [1.]\n",
      " [1.]\n",
      " [1.]\n",
      " [1.]\n",
      " [1.]\n",
      " [1.]\n",
      " [1.]\n",
      " [1.]\n",
      " [1.]\n",
      " [1.]\n",
      " [1.]\n",
      " [1.]\n",
      " [1.]\n",
      " [1.]\n",
      " [1.]\n",
      " [1.]\n",
      " [1.]\n",
      " [1.]\n",
      " [1.]\n",
      " [1.]\n",
      " [1.]\n",
      " [1.]\n",
      " [1.]\n",
      " [1.]\n",
      " [1.]\n",
      " [1.]\n",
      " [1.]\n",
      " [1.]\n",
      " [1.]\n",
      " [1.]\n",
      " [1.]\n",
      " [1.]\n",
      " [1.]\n",
      " [1.]\n",
      " [1.]\n",
      " [1.]\n",
      " [1.]\n",
      " [1.]\n",
      " [1.]\n",
      " [1.]\n",
      " [1.]\n",
      " [1.]\n",
      " [1.]\n",
      " [1.]\n",
      " [1.]\n",
      " [1.]\n",
      " [1.]\n",
      " [1.]\n",
      " [1.]\n",
      " [1.]\n",
      " [1.]\n",
      " [1.]\n",
      " [1.]\n",
      " [1.]\n",
      " [1.]\n",
      " [1.]]\n"
     ]
    }
   ],
   "source": [
    "x3, flag = Cholesky(A3, b3)\n",
    "print(f'soluzione x3 di A3x=b3 = {x3}')"
   ]
  },
  {
   "cell_type": "markdown",
   "metadata": {},
   "source": [
    "Verificare se le matrici sono malcondizionate. Indicare la formula matematica dell'indice di condizionamento e spiegare perchè è importante conoscere l'indice di condizionamento di una matrice.\n",
    "                                                                                           \n",
    "                                                                                           punti 2"
   ]
  },
  {
   "cell_type": "code",
   "execution_count": 110,
   "metadata": {},
   "outputs": [
    {
     "name": "stdout",
     "output_type": "stream",
     "text": [
      "matrice A1 mal condizionata con K = 120.6148722322323\n"
     ]
    }
   ],
   "source": [
    "# Studio il condizionamento delle tre matrici, valutando l'indice di condizionamento K\n",
    "K1 = npl.cond(A1) \n",
    "if K1 > 10^4: \n",
    "    print(f'matrice A1 mal condizionata con K = {K1}')\n",
    "elif K1 < 100:\n",
    "    print(f'matrice A1 ben condizionata con K = {K1}')\n",
    "elif 100 < K1 < 10^4: \n",
    "    print(f'matrice A1 mediamente mal condizionata con K = {K1}')"
   ]
  },
  {
   "cell_type": "code",
   "execution_count": 111,
   "metadata": {},
   "outputs": [
    {
     "name": "stdout",
     "output_type": "stream",
     "text": [
      "matrice A2 mal condizionata con K = 10000.00000000046\n"
     ]
    }
   ],
   "source": [
    "K2 = npl.cond(A2) \n",
    "if K2 > 10^4: \n",
    "    print(f'matrice A2 mal condizionata con K = {K2}')\n",
    "elif K2 < 100:\n",
    "    print(f'matrice A2 ben condizionata con K = {K2}')\n",
    "elif 100 < K2 < 10^4: \n",
    "    print(f'matrice A2 mediamente mal condizionata con K = {K2}')"
   ]
  },
  {
   "cell_type": "code",
   "execution_count": 112,
   "metadata": {},
   "outputs": [
    {
     "name": "stdout",
     "output_type": "stream",
     "text": [
      "matrice A3 mal condizionata con K = 103.08686891981725\n"
     ]
    }
   ],
   "source": [
    "K3 = npl.cond(A3) \n",
    "if K3 > 10^4: \n",
    "    print(f'matrice A3 mal condizionata con K = {K3}')\n",
    "elif K3 < 100:\n",
    "    print(f'matrice A2 ben condizionata con K = {K3}')\n",
    "elif 100 < K3 < 10^4: \n",
    "    print(f'matrice A2 mediamente mal condizionata con K = {K3}')"
   ]
  },
  {
   "cell_type": "markdown",
   "metadata": {},
   "source": [
    "L'indice di condizionamento viene così valutato: errore sulla soluzione <= K * errore sui dati. Il condizionamento, infatti, indica quanto varia la soluzione di un problema in seguito a perturbazioni sui dati"
   ]
  },
  {
   "cell_type": "markdown",
   "metadata": {},
   "source": [
    "Dopo aver copiato nel numpy array b1p il termine noto b1 del primo sistema lineare con matrice dei coefficienti A1, effettuarne una perturbazione della prima componente nel seguente modo b1p[0]=b1p[0]+0.001*b1p[0]. Risolvere il sistema lineare con matrice A1 e termine noto perturbato b1p. Calcolare l'errore relativo sulla soluzione e l'errore relativo sul termine noto, descrivere ciò che si verifica giustificandolo alla luce della teoria.\n",
    "\n",
    "                                                                                           punti 2"
   ]
  },
  {
   "cell_type": "code",
   "execution_count": 116,
   "metadata": {},
   "outputs": [],
   "source": [
    "b1p = np.copy(b1)\n",
    "b1p[0]=b1p[0]+0.001*b1p[0]\n"
   ]
  },
  {
   "cell_type": "markdown",
   "metadata": {},
   "source": [
    "## Esercizio 2 ##"
   ]
  },
  {
   "cell_type": "markdown",
   "metadata": {},
   "source": [
    "Per ogni $k \\in N$ l'equazione di II grado $x^2+(2^{2k}-3^{-2k})x-2^{2k}3^{-2k}=0 $ ha come soluzioni esatte $x_1=-2^{2k}$,$x_2=3^{-2k}$.\n",
    "Scrivere lo script python in cui\n",
    "\n",
    "1. Si implementa la formula risolutiva delle equazioni di II grado per calcolare le  due soluzioni per $k$ che  assume valori interi tra 6 e 16;  [**Punti 2**]"
   ]
  },
  {
   "cell_type": "code",
   "execution_count": null,
   "metadata": {},
   "outputs": [],
   "source": [
    "import numpy as np"
   ]
  },
  {
   "cell_type": "code",
   "execution_count": null,
   "metadata": {},
   "outputs": [
    {
     "name": "stdout",
     "output_type": "stream",
     "text": [
      "soluzioni esatte del polinomio = [-4.09600000e+03 -1.63840000e+04 -6.55360000e+04 -2.62144000e+05\n",
      " -1.04857600e+06 -4.19430400e+06 -1.67772160e+07 -6.71088640e+07\n",
      " -2.68435456e+08 -1.07374182e+09 -4.29496730e+09], [1.88167642e-06 2.09075158e-07 2.32305731e-08 2.58117479e-09\n",
      " 2.86797199e-10 3.18663555e-11 3.54070616e-12 3.93411796e-13\n",
      " 4.37124217e-14 4.85693575e-15 5.39659528e-16]\n",
      "\n",
      "soluzioni calcolate: x1 = [-4.09600000e+03 -1.63840000e+04 -6.55360000e+04 -2.62144000e+05\n",
      " -1.04857600e+06 -4.19430400e+06 -1.67772160e+07 -6.71088640e+07\n",
      " -2.68435456e+08 -1.07374182e+09 -4.29496730e+09], x2 = [1.88167633e-06 2.09074642e-07 2.32284947e-08 2.57568900e-09\n",
      " 2.32830644e-10 0.00000000e+00 0.00000000e+00 0.00000000e+00\n",
      " 0.00000000e+00 0.00000000e+00 0.00000000e+00]\n"
     ]
    }
   ],
   "source": [
    "k = np.linspace(6, 16, 11) # k assume valori interi da 6 e 16 => 11 valori\n",
    "\n",
    "x1_true = -4**k\n",
    "x2_true = (1/9)**k\n",
    "\n",
    "a = 1\n",
    "b = 4**k - (1/9)**k\n",
    "c = -4**k * (1/9)**k\n",
    "x1 = (- b - np.sqrt(b**2 - 4 * a * c))/2 \n",
    "x2 =  (- b + np.sqrt(b**2 - 4 * a * c))/2\n",
    "print(f'soluzioni esatte del polinomio = {x1_true}, {x2_true}')\n",
    "print(f'\\nsoluzioni calcolate: x1 = {x1}, x2 = {x2}')"
   ]
  },
  {
   "cell_type": "markdown",
   "metadata": {},
   "source": [
    "2. Per entrambe le soluzioni, si calcoli l'errore relativo commesso al variare di k che assume valori interi tra 6 e 16;   [**Punti 1**]"
   ]
  },
  {
   "cell_type": "code",
   "execution_count": null,
   "metadata": {},
   "outputs": [
    {
     "name": "stdout",
     "output_type": "stream",
     "text": [
      "\n",
      "err_x1 = [0. 0. 0. 0. 0. 0. 0. 0. 0. 0. 0.], \n",
      "\n",
      "err_x2 = [5.17056830e-08 2.46841955e-06 8.94701188e-05 2.12530988e-03\n",
      " 1.88169744e-01 1.00000000e+00 1.00000000e+00 1.00000000e+00\n",
      " 1.00000000e+00 1.00000000e+00 1.00000000e+00]\n"
     ]
    }
   ],
   "source": [
    "err_x1 = np.abs(x1-x1_true) / np.abs(x1_true)\n",
    "err_x2 = np.abs(x2 - x2_true) / np.abs(x2_true)\n",
    "\n",
    "print(f'\\nerr_x1 = {err_x1}, \\n\\nerr_x2 = {err_x2}')"
   ]
  },
  {
   "cell_type": "markdown",
   "metadata": {},
   "source": [
    "3. Si rappresentino in un grafico gli andamenti dei due errori relativi calcolati nel punto precedente; [**Punti 1**]"
   ]
  },
  {
   "cell_type": "code",
   "execution_count": null,
   "metadata": {},
   "outputs": [
    {
     "data": {
      "image/png": "[encoded data removed]",
      "text/plain": [
       "<Figure size 640x480 with 1 Axes>"
      ]
     },
     "metadata": {},
     "output_type": "display_data"
    }
   ],
   "source": [
    "import matplotlib.pyplot as plt\n",
    "\n",
    "plt.plot(k, err_x1, 'o--', k, err_x2, 'g*--') # disegno nell'intervallo richiesto\n",
    "plt.legend(['err_x1','err_x2'])\n",
    "plt.show()"
   ]
  },
  {
   "cell_type": "markdown",
   "metadata": {},
   "source": [
    "4. osservando i grafici ottenuti, si dica se le formule utilizzate per calcolare le due soluzioni hanno dato luogo ad algoritmi stabili, motivando opportunamente la risposta alla luce della teoria. [**Punti 6**]"
   ]
  },
  {
   "cell_type": "markdown",
   "metadata": {},
   "source": [
    "Dal grafico si nota che l'errore relativo alla soluzione x1 è nullo. \n",
    "Invece, nel caso della soluzione x2, nell'intervallo 9-16, l'errore si amplifica in maniera elevata: questo è dovuto al fatto che, nella formula risolutiva del polinomiodi secondo grado dato, per x2 si sono sommati due valori molto vicini in modulo, ma di segno opposto. Infatti, ricordiamo che l'operazione di somma può essere pericolosa nell'insieme dei numeri di macchina. "
   ]
  },
  {
   "cell_type": "markdown",
   "metadata": {},
   "source": [
    "5. In caso di instabilita', si fornisca un algoritmo di calcolo stabile e si mostrino in un nuovo grafico gli\n",
    "andamenti dei nuovi errori relativi ottenuti. [**Punti 6**]"
   ]
  },
  {
   "cell_type": "markdown",
   "metadata": {},
   "source": [
    "Un algoritmo più efficiente per il calcolo delle radici di un’equazione di II° grado è il seguente:\n",
    "calcolo la radice che, in base al segno di b, non porta problemi, cioè evita la differenza tra numeri\n",
    "molto vicini in modulo, tenendo conto\n",
    "della relazione che lega le due radici di un’equazione di secondo grado: x1 * x2 = c => x2 = c / x1"
   ]
  },
  {
   "cell_type": "code",
   "execution_count": 115,
   "metadata": {},
   "outputs": [
    {
     "data": {
      "text/plain": [
       "<matplotlib.legend.Legend at 0x19f8dde3150>"
      ]
     },
     "execution_count": 115,
     "metadata": {},
     "output_type": "execute_result"
    },
    {
     "data": {
      "image/png": "[encoded data removed]",
      "text/plain": [
       "<Figure size 640x480 with 1 Axes>"
      ]
     },
     "metadata": {},
     "output_type": "display_data"
    }
   ],
   "source": [
    "x2_new = c / x1\n",
    "\n",
    "err_x2new = np.abs(x2_new - x2_true) / np.abs(x2_true)\n",
    "plt.plot(k, err_x2new, 'r-')\n",
    "plt.legend(['err_x2new'])"
   ]
  },
  {
   "cell_type": "code",
   "execution_count": null,
   "metadata": {},
   "outputs": [],
   "source": []
  }
 ],
 "metadata": {
  "kernelspec": {
   "display_name": "base",
   "language": "python",
   "name": "python3"
  },
  "language_info": {
   "codemirror_mode": {
    "name": "ipython",
    "version": 3
   },
   "file_extension": ".py",
   "mimetype": "text/x-python",
   "name": "python",
   "nbconvert_exporter": "python",
   "pygments_lexer": "ipython3",
   "version": "3.11.5"
  }
 },
 "nbformat": 4,
 "nbformat_minor": 2
}
